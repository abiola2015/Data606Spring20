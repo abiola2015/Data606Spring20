{
  "nbformat": 4,
  "nbformat_minor": 0,
  "metadata": {
    "colab": {
      "name": "EDA.ipynb",
      "provenance": [],
      "collapsed_sections": [],
      "toc_visible": true
    },
    "kernelspec": {
      "name": "python3",
      "display_name": "Python 3"
    }
  },
  "cells": [
    {
      "cell_type": "markdown",
      "metadata": {
        "id": "PcJpbeVpDeR3",
        "colab_type": "text"
      },
      "source": [
        "# The dataset is collected from Department of Information Management, Chung Hua University, Taiwan and Department of Civil Engineering, Tamkang University, Taiwan.\n",
        "The source URLs for the data is\n",
        "https://archive.ics.uci.edu/ml/datasets/default+of+credit+card+clients."
      ]
    },
    {
      "cell_type": "markdown",
      "metadata": {
        "id": "9wxJd4IIDhKp",
        "colab_type": "text"
      },
      "source": [
        "# EDA Steps\n",
        "• Deal with Missing Values if any\n",
        "\n",
        "• Define data types for each column\n",
        "\n",
        "• Understand the dataset\n",
        "\n",
        "• Review Correlation among variables\n",
        "\n",
        "• Play around with visualizations and visualize subsets"
      ]
    },
    {
      "cell_type": "code",
      "metadata": {
        "id": "-YIQm2HPFzG3",
        "colab_type": "code",
        "colab": {}
      },
      "source": [
        "import pandas as pd\n",
        "from pandas import set_option\n",
        "import numpy as np\n",
        "from numpy import argmax\n",
        "import sklearn\n",
        "import matplotlib.pyplot as plt\n",
        "from matplotlib import pyplot\n",
        "import statsmodels.api as sm\n",
        "import seaborn as sns\n",
        "from scipy.io import arff\n",
        "from sklearn.decomposition import PCA\n",
        "from sklearn.metrics import precision_recall_curve\n",
        "from sklearn.metrics import f1_score\n",
        "from sklearn.metrics import auc\n",
        "from pandas import set_option\n",
        "from imblearn.under_sampling import RandomUnderSampler\n",
        "from imblearn.over_sampling import SMOTE\n",
        "%matplotlib inline\n",
        "from pandas.plotting import scatter_matrix\n",
        "from sklearn.preprocessing import StandardScaler\n",
        "from sklearn.preprocessing import RobustScaler\n",
        "from sklearn.model_selection import train_test_split\n",
        "from sklearn.model_selection import KFold\n",
        "from sklearn.model_selection import cross_val_score\n",
        "from sklearn.model_selection import GridSearchCV\n",
        "from sklearn.metrics import confusion_matrix\n",
        "from sklearn.metrics import classification_report\n",
        "from sklearn.linear_model import LogisticRegression\n",
        "from sklearn.naive_bayes import GaussianNB\n",
        "from sklearn.metrics import accuracy_score\n",
        "from sklearn import ensemble\n",
        "from sklearn.ensemble import AdaBoostClassifier\n",
        "from sklearn.ensemble import GradientBoostingClassifier\n",
        "from sklearn.ensemble import RandomForestClassifier\n",
        "from sklearn.linear_model import ElasticNet\n",
        "from sklearn.pipeline import Pipeline\n",
        "from sklearn.tree import DecisionTreeClassifier\n",
        "from sklearn.neighbors import KNeighborsClassifier\n",
        "from sklearn import metrics\n",
        "from sklearn.svm import SVC\n",
        "from sklearn.metrics import roc_auc_score\n",
        "import gc\n",
        "import matplotlib"
      ],
      "execution_count": 0,
      "outputs": []
    },
    {
      "cell_type": "code",
      "metadata": {
        "id": "aS_zTAmbF881",
        "colab_type": "code",
        "colab": {}
      },
      "source": [
        "Fraud=pd.read_excel('/content/sample_data/default_of_credit_card_clients.xls', skiprows=1)"
      ],
      "execution_count": 0,
      "outputs": []
    },
    {
      "cell_type": "code",
      "metadata": {
        "id": "QUrd5VOxGK-b",
        "colab_type": "code",
        "outputId": "f6d5d772-e67b-4833-d3d9-401da271731f",
        "colab": {
          "base_uri": "https://localhost:8080/",
          "height": 430
        }
      },
      "source": [
        "Fraud.head(10)"
      ],
      "execution_count": 117,
      "outputs": [
        {
          "output_type": "execute_result",
          "data": {
            "text/html": [
              "<div>\n",
              "<style scoped>\n",
              "    .dataframe tbody tr th:only-of-type {\n",
              "        vertical-align: middle;\n",
              "    }\n",
              "\n",
              "    .dataframe tbody tr th {\n",
              "        vertical-align: top;\n",
              "    }\n",
              "\n",
              "    .dataframe thead th {\n",
              "        text-align: right;\n",
              "    }\n",
              "</style>\n",
              "<table border=\"1\" class=\"dataframe\">\n",
              "  <thead>\n",
              "    <tr style=\"text-align: right;\">\n",
              "      <th></th>\n",
              "      <th>ID</th>\n",
              "      <th>LIMIT_BAL</th>\n",
              "      <th>SEX</th>\n",
              "      <th>EDUCATION</th>\n",
              "      <th>MARRIAGE</th>\n",
              "      <th>AGE</th>\n",
              "      <th>PAY_0</th>\n",
              "      <th>PAY_2</th>\n",
              "      <th>PAY_3</th>\n",
              "      <th>PAY_4</th>\n",
              "      <th>PAY_5</th>\n",
              "      <th>PAY_6</th>\n",
              "      <th>BILL_AMT1</th>\n",
              "      <th>BILL_AMT2</th>\n",
              "      <th>BILL_AMT3</th>\n",
              "      <th>BILL_AMT4</th>\n",
              "      <th>BILL_AMT5</th>\n",
              "      <th>BILL_AMT6</th>\n",
              "      <th>PAY_AMT1</th>\n",
              "      <th>PAY_AMT2</th>\n",
              "      <th>PAY_AMT3</th>\n",
              "      <th>PAY_AMT4</th>\n",
              "      <th>PAY_AMT5</th>\n",
              "      <th>PAY_AMT6</th>\n",
              "      <th>default payment next month</th>\n",
              "    </tr>\n",
              "  </thead>\n",
              "  <tbody>\n",
              "    <tr>\n",
              "      <th>0</th>\n",
              "      <td>1</td>\n",
              "      <td>20000</td>\n",
              "      <td>2</td>\n",
              "      <td>2</td>\n",
              "      <td>1</td>\n",
              "      <td>24</td>\n",
              "      <td>2</td>\n",
              "      <td>2</td>\n",
              "      <td>-1</td>\n",
              "      <td>-1</td>\n",
              "      <td>-2</td>\n",
              "      <td>-2</td>\n",
              "      <td>3913</td>\n",
              "      <td>3102</td>\n",
              "      <td>689</td>\n",
              "      <td>0</td>\n",
              "      <td>0</td>\n",
              "      <td>0</td>\n",
              "      <td>0</td>\n",
              "      <td>689</td>\n",
              "      <td>0</td>\n",
              "      <td>0</td>\n",
              "      <td>0</td>\n",
              "      <td>0</td>\n",
              "      <td>1</td>\n",
              "    </tr>\n",
              "    <tr>\n",
              "      <th>1</th>\n",
              "      <td>2</td>\n",
              "      <td>120000</td>\n",
              "      <td>2</td>\n",
              "      <td>2</td>\n",
              "      <td>2</td>\n",
              "      <td>26</td>\n",
              "      <td>-1</td>\n",
              "      <td>2</td>\n",
              "      <td>0</td>\n",
              "      <td>0</td>\n",
              "      <td>0</td>\n",
              "      <td>2</td>\n",
              "      <td>2682</td>\n",
              "      <td>1725</td>\n",
              "      <td>2682</td>\n",
              "      <td>3272</td>\n",
              "      <td>3455</td>\n",
              "      <td>3261</td>\n",
              "      <td>0</td>\n",
              "      <td>1000</td>\n",
              "      <td>1000</td>\n",
              "      <td>1000</td>\n",
              "      <td>0</td>\n",
              "      <td>2000</td>\n",
              "      <td>1</td>\n",
              "    </tr>\n",
              "    <tr>\n",
              "      <th>2</th>\n",
              "      <td>3</td>\n",
              "      <td>90000</td>\n",
              "      <td>2</td>\n",
              "      <td>2</td>\n",
              "      <td>2</td>\n",
              "      <td>34</td>\n",
              "      <td>0</td>\n",
              "      <td>0</td>\n",
              "      <td>0</td>\n",
              "      <td>0</td>\n",
              "      <td>0</td>\n",
              "      <td>0</td>\n",
              "      <td>29239</td>\n",
              "      <td>14027</td>\n",
              "      <td>13559</td>\n",
              "      <td>14331</td>\n",
              "      <td>14948</td>\n",
              "      <td>15549</td>\n",
              "      <td>1518</td>\n",
              "      <td>1500</td>\n",
              "      <td>1000</td>\n",
              "      <td>1000</td>\n",
              "      <td>1000</td>\n",
              "      <td>5000</td>\n",
              "      <td>0</td>\n",
              "    </tr>\n",
              "    <tr>\n",
              "      <th>3</th>\n",
              "      <td>4</td>\n",
              "      <td>50000</td>\n",
              "      <td>2</td>\n",
              "      <td>2</td>\n",
              "      <td>1</td>\n",
              "      <td>37</td>\n",
              "      <td>0</td>\n",
              "      <td>0</td>\n",
              "      <td>0</td>\n",
              "      <td>0</td>\n",
              "      <td>0</td>\n",
              "      <td>0</td>\n",
              "      <td>46990</td>\n",
              "      <td>48233</td>\n",
              "      <td>49291</td>\n",
              "      <td>28314</td>\n",
              "      <td>28959</td>\n",
              "      <td>29547</td>\n",
              "      <td>2000</td>\n",
              "      <td>2019</td>\n",
              "      <td>1200</td>\n",
              "      <td>1100</td>\n",
              "      <td>1069</td>\n",
              "      <td>1000</td>\n",
              "      <td>0</td>\n",
              "    </tr>\n",
              "    <tr>\n",
              "      <th>4</th>\n",
              "      <td>5</td>\n",
              "      <td>50000</td>\n",
              "      <td>1</td>\n",
              "      <td>2</td>\n",
              "      <td>1</td>\n",
              "      <td>57</td>\n",
              "      <td>-1</td>\n",
              "      <td>0</td>\n",
              "      <td>-1</td>\n",
              "      <td>0</td>\n",
              "      <td>0</td>\n",
              "      <td>0</td>\n",
              "      <td>8617</td>\n",
              "      <td>5670</td>\n",
              "      <td>35835</td>\n",
              "      <td>20940</td>\n",
              "      <td>19146</td>\n",
              "      <td>19131</td>\n",
              "      <td>2000</td>\n",
              "      <td>36681</td>\n",
              "      <td>10000</td>\n",
              "      <td>9000</td>\n",
              "      <td>689</td>\n",
              "      <td>679</td>\n",
              "      <td>0</td>\n",
              "    </tr>\n",
              "    <tr>\n",
              "      <th>5</th>\n",
              "      <td>6</td>\n",
              "      <td>50000</td>\n",
              "      <td>1</td>\n",
              "      <td>1</td>\n",
              "      <td>2</td>\n",
              "      <td>37</td>\n",
              "      <td>0</td>\n",
              "      <td>0</td>\n",
              "      <td>0</td>\n",
              "      <td>0</td>\n",
              "      <td>0</td>\n",
              "      <td>0</td>\n",
              "      <td>64400</td>\n",
              "      <td>57069</td>\n",
              "      <td>57608</td>\n",
              "      <td>19394</td>\n",
              "      <td>19619</td>\n",
              "      <td>20024</td>\n",
              "      <td>2500</td>\n",
              "      <td>1815</td>\n",
              "      <td>657</td>\n",
              "      <td>1000</td>\n",
              "      <td>1000</td>\n",
              "      <td>800</td>\n",
              "      <td>0</td>\n",
              "    </tr>\n",
              "    <tr>\n",
              "      <th>6</th>\n",
              "      <td>7</td>\n",
              "      <td>500000</td>\n",
              "      <td>1</td>\n",
              "      <td>1</td>\n",
              "      <td>2</td>\n",
              "      <td>29</td>\n",
              "      <td>0</td>\n",
              "      <td>0</td>\n",
              "      <td>0</td>\n",
              "      <td>0</td>\n",
              "      <td>0</td>\n",
              "      <td>0</td>\n",
              "      <td>367965</td>\n",
              "      <td>412023</td>\n",
              "      <td>445007</td>\n",
              "      <td>542653</td>\n",
              "      <td>483003</td>\n",
              "      <td>473944</td>\n",
              "      <td>55000</td>\n",
              "      <td>40000</td>\n",
              "      <td>38000</td>\n",
              "      <td>20239</td>\n",
              "      <td>13750</td>\n",
              "      <td>13770</td>\n",
              "      <td>0</td>\n",
              "    </tr>\n",
              "    <tr>\n",
              "      <th>7</th>\n",
              "      <td>8</td>\n",
              "      <td>100000</td>\n",
              "      <td>2</td>\n",
              "      <td>2</td>\n",
              "      <td>2</td>\n",
              "      <td>23</td>\n",
              "      <td>0</td>\n",
              "      <td>-1</td>\n",
              "      <td>-1</td>\n",
              "      <td>0</td>\n",
              "      <td>0</td>\n",
              "      <td>-1</td>\n",
              "      <td>11876</td>\n",
              "      <td>380</td>\n",
              "      <td>601</td>\n",
              "      <td>221</td>\n",
              "      <td>-159</td>\n",
              "      <td>567</td>\n",
              "      <td>380</td>\n",
              "      <td>601</td>\n",
              "      <td>0</td>\n",
              "      <td>581</td>\n",
              "      <td>1687</td>\n",
              "      <td>1542</td>\n",
              "      <td>0</td>\n",
              "    </tr>\n",
              "    <tr>\n",
              "      <th>8</th>\n",
              "      <td>9</td>\n",
              "      <td>140000</td>\n",
              "      <td>2</td>\n",
              "      <td>3</td>\n",
              "      <td>1</td>\n",
              "      <td>28</td>\n",
              "      <td>0</td>\n",
              "      <td>0</td>\n",
              "      <td>2</td>\n",
              "      <td>0</td>\n",
              "      <td>0</td>\n",
              "      <td>0</td>\n",
              "      <td>11285</td>\n",
              "      <td>14096</td>\n",
              "      <td>12108</td>\n",
              "      <td>12211</td>\n",
              "      <td>11793</td>\n",
              "      <td>3719</td>\n",
              "      <td>3329</td>\n",
              "      <td>0</td>\n",
              "      <td>432</td>\n",
              "      <td>1000</td>\n",
              "      <td>1000</td>\n",
              "      <td>1000</td>\n",
              "      <td>0</td>\n",
              "    </tr>\n",
              "    <tr>\n",
              "      <th>9</th>\n",
              "      <td>10</td>\n",
              "      <td>20000</td>\n",
              "      <td>1</td>\n",
              "      <td>3</td>\n",
              "      <td>2</td>\n",
              "      <td>35</td>\n",
              "      <td>-2</td>\n",
              "      <td>-2</td>\n",
              "      <td>-2</td>\n",
              "      <td>-2</td>\n",
              "      <td>-1</td>\n",
              "      <td>-1</td>\n",
              "      <td>0</td>\n",
              "      <td>0</td>\n",
              "      <td>0</td>\n",
              "      <td>0</td>\n",
              "      <td>13007</td>\n",
              "      <td>13912</td>\n",
              "      <td>0</td>\n",
              "      <td>0</td>\n",
              "      <td>0</td>\n",
              "      <td>13007</td>\n",
              "      <td>1122</td>\n",
              "      <td>0</td>\n",
              "      <td>0</td>\n",
              "    </tr>\n",
              "  </tbody>\n",
              "</table>\n",
              "</div>"
            ],
            "text/plain": [
              "   ID  LIMIT_BAL  SEX  ...  PAY_AMT5  PAY_AMT6  default payment next month\n",
              "0   1      20000    2  ...         0         0                           1\n",
              "1   2     120000    2  ...         0      2000                           1\n",
              "2   3      90000    2  ...      1000      5000                           0\n",
              "3   4      50000    2  ...      1069      1000                           0\n",
              "4   5      50000    1  ...       689       679                           0\n",
              "5   6      50000    1  ...      1000       800                           0\n",
              "6   7     500000    1  ...     13750     13770                           0\n",
              "7   8     100000    2  ...      1687      1542                           0\n",
              "8   9     140000    2  ...      1000      1000                           0\n",
              "9  10      20000    1  ...      1122         0                           0\n",
              "\n",
              "[10 rows x 25 columns]"
            ]
          },
          "metadata": {
            "tags": []
          },
          "execution_count": 117
        }
      ]
    },
    {
      "cell_type": "code",
      "metadata": {
        "id": "RTgMHnpiGQ21",
        "colab_type": "code",
        "outputId": "6e07d683-20e6-4d97-d6a8-5cc4b1dd47d2",
        "colab": {
          "base_uri": "https://localhost:8080/",
          "height": 34
        }
      },
      "source": [
        "Fraud.shape"
      ],
      "execution_count": 118,
      "outputs": [
        {
          "output_type": "execute_result",
          "data": {
            "text/plain": [
              "(30000, 25)"
            ]
          },
          "metadata": {
            "tags": []
          },
          "execution_count": 118
        }
      ]
    },
    {
      "cell_type": "code",
      "metadata": {
        "id": "PnN0XkUfGagF",
        "colab_type": "code",
        "outputId": "a6a5adf4-73db-4333-cafb-f9d958fa42b6",
        "colab": {
          "base_uri": "https://localhost:8080/",
          "height": 122
        }
      },
      "source": [
        "Fraud.columns"
      ],
      "execution_count": 119,
      "outputs": [
        {
          "output_type": "execute_result",
          "data": {
            "text/plain": [
              "Index(['ID', 'LIMIT_BAL', 'SEX', 'EDUCATION', 'MARRIAGE', 'AGE', 'PAY_0',\n",
              "       'PAY_2', 'PAY_3', 'PAY_4', 'PAY_5', 'PAY_6', 'BILL_AMT1', 'BILL_AMT2',\n",
              "       'BILL_AMT3', 'BILL_AMT4', 'BILL_AMT5', 'BILL_AMT6', 'PAY_AMT1',\n",
              "       'PAY_AMT2', 'PAY_AMT3', 'PAY_AMT4', 'PAY_AMT5', 'PAY_AMT6',\n",
              "       'default payment next month'],\n",
              "      dtype='object')"
            ]
          },
          "metadata": {
            "tags": []
          },
          "execution_count": 119
        }
      ]
    },
    {
      "cell_type": "code",
      "metadata": {
        "id": "PKhv8TZ5Ge3Z",
        "colab_type": "code",
        "outputId": "c57d23a9-ee41-4bfc-9dbf-9b943bd805f1",
        "colab": {
          "base_uri": "https://localhost:8080/",
          "height": 351
        }
      },
      "source": [
        "Fraud.describe(include='all')"
      ],
      "execution_count": 120,
      "outputs": [
        {
          "output_type": "execute_result",
          "data": {
            "text/html": [
              "<div>\n",
              "<style scoped>\n",
              "    .dataframe tbody tr th:only-of-type {\n",
              "        vertical-align: middle;\n",
              "    }\n",
              "\n",
              "    .dataframe tbody tr th {\n",
              "        vertical-align: top;\n",
              "    }\n",
              "\n",
              "    .dataframe thead th {\n",
              "        text-align: right;\n",
              "    }\n",
              "</style>\n",
              "<table border=\"1\" class=\"dataframe\">\n",
              "  <thead>\n",
              "    <tr style=\"text-align: right;\">\n",
              "      <th></th>\n",
              "      <th>ID</th>\n",
              "      <th>LIMIT_BAL</th>\n",
              "      <th>SEX</th>\n",
              "      <th>EDUCATION</th>\n",
              "      <th>MARRIAGE</th>\n",
              "      <th>AGE</th>\n",
              "      <th>PAY_0</th>\n",
              "      <th>PAY_2</th>\n",
              "      <th>PAY_3</th>\n",
              "      <th>PAY_4</th>\n",
              "      <th>PAY_5</th>\n",
              "      <th>PAY_6</th>\n",
              "      <th>BILL_AMT1</th>\n",
              "      <th>BILL_AMT2</th>\n",
              "      <th>BILL_AMT3</th>\n",
              "      <th>BILL_AMT4</th>\n",
              "      <th>BILL_AMT5</th>\n",
              "      <th>BILL_AMT6</th>\n",
              "      <th>PAY_AMT1</th>\n",
              "      <th>PAY_AMT2</th>\n",
              "      <th>PAY_AMT3</th>\n",
              "      <th>PAY_AMT4</th>\n",
              "      <th>PAY_AMT5</th>\n",
              "      <th>PAY_AMT6</th>\n",
              "      <th>default payment next month</th>\n",
              "    </tr>\n",
              "  </thead>\n",
              "  <tbody>\n",
              "    <tr>\n",
              "      <th>count</th>\n",
              "      <td>30000.000000</td>\n",
              "      <td>30000.000000</td>\n",
              "      <td>30000.000000</td>\n",
              "      <td>30000.000000</td>\n",
              "      <td>30000.000000</td>\n",
              "      <td>30000.000000</td>\n",
              "      <td>30000.000000</td>\n",
              "      <td>30000.000000</td>\n",
              "      <td>30000.000000</td>\n",
              "      <td>30000.000000</td>\n",
              "      <td>30000.000000</td>\n",
              "      <td>30000.000000</td>\n",
              "      <td>30000.000000</td>\n",
              "      <td>30000.000000</td>\n",
              "      <td>3.000000e+04</td>\n",
              "      <td>30000.000000</td>\n",
              "      <td>30000.000000</td>\n",
              "      <td>30000.000000</td>\n",
              "      <td>30000.000000</td>\n",
              "      <td>3.000000e+04</td>\n",
              "      <td>30000.00000</td>\n",
              "      <td>30000.000000</td>\n",
              "      <td>30000.000000</td>\n",
              "      <td>30000.000000</td>\n",
              "      <td>30000.000000</td>\n",
              "    </tr>\n",
              "    <tr>\n",
              "      <th>mean</th>\n",
              "      <td>15000.500000</td>\n",
              "      <td>167484.322667</td>\n",
              "      <td>1.603733</td>\n",
              "      <td>1.853133</td>\n",
              "      <td>1.551867</td>\n",
              "      <td>35.485500</td>\n",
              "      <td>-0.016700</td>\n",
              "      <td>-0.133767</td>\n",
              "      <td>-0.166200</td>\n",
              "      <td>-0.220667</td>\n",
              "      <td>-0.266200</td>\n",
              "      <td>-0.291100</td>\n",
              "      <td>51223.330900</td>\n",
              "      <td>49179.075167</td>\n",
              "      <td>4.701315e+04</td>\n",
              "      <td>43262.948967</td>\n",
              "      <td>40311.400967</td>\n",
              "      <td>38871.760400</td>\n",
              "      <td>5663.580500</td>\n",
              "      <td>5.921163e+03</td>\n",
              "      <td>5225.68150</td>\n",
              "      <td>4826.076867</td>\n",
              "      <td>4799.387633</td>\n",
              "      <td>5215.502567</td>\n",
              "      <td>0.221200</td>\n",
              "    </tr>\n",
              "    <tr>\n",
              "      <th>std</th>\n",
              "      <td>8660.398374</td>\n",
              "      <td>129747.661567</td>\n",
              "      <td>0.489129</td>\n",
              "      <td>0.790349</td>\n",
              "      <td>0.521970</td>\n",
              "      <td>9.217904</td>\n",
              "      <td>1.123802</td>\n",
              "      <td>1.197186</td>\n",
              "      <td>1.196868</td>\n",
              "      <td>1.169139</td>\n",
              "      <td>1.133187</td>\n",
              "      <td>1.149988</td>\n",
              "      <td>73635.860576</td>\n",
              "      <td>71173.768783</td>\n",
              "      <td>6.934939e+04</td>\n",
              "      <td>64332.856134</td>\n",
              "      <td>60797.155770</td>\n",
              "      <td>59554.107537</td>\n",
              "      <td>16563.280354</td>\n",
              "      <td>2.304087e+04</td>\n",
              "      <td>17606.96147</td>\n",
              "      <td>15666.159744</td>\n",
              "      <td>15278.305679</td>\n",
              "      <td>17777.465775</td>\n",
              "      <td>0.415062</td>\n",
              "    </tr>\n",
              "    <tr>\n",
              "      <th>min</th>\n",
              "      <td>1.000000</td>\n",
              "      <td>10000.000000</td>\n",
              "      <td>1.000000</td>\n",
              "      <td>0.000000</td>\n",
              "      <td>0.000000</td>\n",
              "      <td>21.000000</td>\n",
              "      <td>-2.000000</td>\n",
              "      <td>-2.000000</td>\n",
              "      <td>-2.000000</td>\n",
              "      <td>-2.000000</td>\n",
              "      <td>-2.000000</td>\n",
              "      <td>-2.000000</td>\n",
              "      <td>-165580.000000</td>\n",
              "      <td>-69777.000000</td>\n",
              "      <td>-1.572640e+05</td>\n",
              "      <td>-170000.000000</td>\n",
              "      <td>-81334.000000</td>\n",
              "      <td>-339603.000000</td>\n",
              "      <td>0.000000</td>\n",
              "      <td>0.000000e+00</td>\n",
              "      <td>0.00000</td>\n",
              "      <td>0.000000</td>\n",
              "      <td>0.000000</td>\n",
              "      <td>0.000000</td>\n",
              "      <td>0.000000</td>\n",
              "    </tr>\n",
              "    <tr>\n",
              "      <th>25%</th>\n",
              "      <td>7500.750000</td>\n",
              "      <td>50000.000000</td>\n",
              "      <td>1.000000</td>\n",
              "      <td>1.000000</td>\n",
              "      <td>1.000000</td>\n",
              "      <td>28.000000</td>\n",
              "      <td>-1.000000</td>\n",
              "      <td>-1.000000</td>\n",
              "      <td>-1.000000</td>\n",
              "      <td>-1.000000</td>\n",
              "      <td>-1.000000</td>\n",
              "      <td>-1.000000</td>\n",
              "      <td>3558.750000</td>\n",
              "      <td>2984.750000</td>\n",
              "      <td>2.666250e+03</td>\n",
              "      <td>2326.750000</td>\n",
              "      <td>1763.000000</td>\n",
              "      <td>1256.000000</td>\n",
              "      <td>1000.000000</td>\n",
              "      <td>8.330000e+02</td>\n",
              "      <td>390.00000</td>\n",
              "      <td>296.000000</td>\n",
              "      <td>252.500000</td>\n",
              "      <td>117.750000</td>\n",
              "      <td>0.000000</td>\n",
              "    </tr>\n",
              "    <tr>\n",
              "      <th>50%</th>\n",
              "      <td>15000.500000</td>\n",
              "      <td>140000.000000</td>\n",
              "      <td>2.000000</td>\n",
              "      <td>2.000000</td>\n",
              "      <td>2.000000</td>\n",
              "      <td>34.000000</td>\n",
              "      <td>0.000000</td>\n",
              "      <td>0.000000</td>\n",
              "      <td>0.000000</td>\n",
              "      <td>0.000000</td>\n",
              "      <td>0.000000</td>\n",
              "      <td>0.000000</td>\n",
              "      <td>22381.500000</td>\n",
              "      <td>21200.000000</td>\n",
              "      <td>2.008850e+04</td>\n",
              "      <td>19052.000000</td>\n",
              "      <td>18104.500000</td>\n",
              "      <td>17071.000000</td>\n",
              "      <td>2100.000000</td>\n",
              "      <td>2.009000e+03</td>\n",
              "      <td>1800.00000</td>\n",
              "      <td>1500.000000</td>\n",
              "      <td>1500.000000</td>\n",
              "      <td>1500.000000</td>\n",
              "      <td>0.000000</td>\n",
              "    </tr>\n",
              "    <tr>\n",
              "      <th>75%</th>\n",
              "      <td>22500.250000</td>\n",
              "      <td>240000.000000</td>\n",
              "      <td>2.000000</td>\n",
              "      <td>2.000000</td>\n",
              "      <td>2.000000</td>\n",
              "      <td>41.000000</td>\n",
              "      <td>0.000000</td>\n",
              "      <td>0.000000</td>\n",
              "      <td>0.000000</td>\n",
              "      <td>0.000000</td>\n",
              "      <td>0.000000</td>\n",
              "      <td>0.000000</td>\n",
              "      <td>67091.000000</td>\n",
              "      <td>64006.250000</td>\n",
              "      <td>6.016475e+04</td>\n",
              "      <td>54506.000000</td>\n",
              "      <td>50190.500000</td>\n",
              "      <td>49198.250000</td>\n",
              "      <td>5006.000000</td>\n",
              "      <td>5.000000e+03</td>\n",
              "      <td>4505.00000</td>\n",
              "      <td>4013.250000</td>\n",
              "      <td>4031.500000</td>\n",
              "      <td>4000.000000</td>\n",
              "      <td>0.000000</td>\n",
              "    </tr>\n",
              "    <tr>\n",
              "      <th>max</th>\n",
              "      <td>30000.000000</td>\n",
              "      <td>1000000.000000</td>\n",
              "      <td>2.000000</td>\n",
              "      <td>6.000000</td>\n",
              "      <td>3.000000</td>\n",
              "      <td>79.000000</td>\n",
              "      <td>8.000000</td>\n",
              "      <td>8.000000</td>\n",
              "      <td>8.000000</td>\n",
              "      <td>8.000000</td>\n",
              "      <td>8.000000</td>\n",
              "      <td>8.000000</td>\n",
              "      <td>964511.000000</td>\n",
              "      <td>983931.000000</td>\n",
              "      <td>1.664089e+06</td>\n",
              "      <td>891586.000000</td>\n",
              "      <td>927171.000000</td>\n",
              "      <td>961664.000000</td>\n",
              "      <td>873552.000000</td>\n",
              "      <td>1.684259e+06</td>\n",
              "      <td>896040.00000</td>\n",
              "      <td>621000.000000</td>\n",
              "      <td>426529.000000</td>\n",
              "      <td>528666.000000</td>\n",
              "      <td>1.000000</td>\n",
              "    </tr>\n",
              "  </tbody>\n",
              "</table>\n",
              "</div>"
            ],
            "text/plain": [
              "                 ID       LIMIT_BAL  ...       PAY_AMT6  default payment next month\n",
              "count  30000.000000    30000.000000  ...   30000.000000                30000.000000\n",
              "mean   15000.500000   167484.322667  ...    5215.502567                    0.221200\n",
              "std     8660.398374   129747.661567  ...   17777.465775                    0.415062\n",
              "min        1.000000    10000.000000  ...       0.000000                    0.000000\n",
              "25%     7500.750000    50000.000000  ...     117.750000                    0.000000\n",
              "50%    15000.500000   140000.000000  ...    1500.000000                    0.000000\n",
              "75%    22500.250000   240000.000000  ...    4000.000000                    0.000000\n",
              "max    30000.000000  1000000.000000  ...  528666.000000                    1.000000\n",
              "\n",
              "[8 rows x 25 columns]"
            ]
          },
          "metadata": {
            "tags": []
          },
          "execution_count": 120
        }
      ]
    },
    {
      "cell_type": "markdown",
      "metadata": {
        "id": "IGrbkj1XGtMm",
        "colab_type": "text"
      },
      "source": [
        "# Before cleaning or preparing the data, the summary statistics can be seen above"
      ]
    },
    {
      "cell_type": "code",
      "metadata": {
        "id": "tppkU6NgG49O",
        "colab_type": "code",
        "outputId": "4b8b3850-0732-47b1-d164-15aacec00da3",
        "colab": {
          "base_uri": "https://localhost:8080/",
          "height": 577
        }
      },
      "source": [
        "Fraud.info()"
      ],
      "execution_count": 121,
      "outputs": [
        {
          "output_type": "stream",
          "text": [
            "<class 'pandas.core.frame.DataFrame'>\n",
            "RangeIndex: 30000 entries, 0 to 29999\n",
            "Data columns (total 25 columns):\n",
            " #   Column                      Non-Null Count  Dtype\n",
            "---  ------                      --------------  -----\n",
            " 0   ID                          30000 non-null  int64\n",
            " 1   LIMIT_BAL                   30000 non-null  int64\n",
            " 2   SEX                         30000 non-null  int64\n",
            " 3   EDUCATION                   30000 non-null  int64\n",
            " 4   MARRIAGE                    30000 non-null  int64\n",
            " 5   AGE                         30000 non-null  int64\n",
            " 6   PAY_0                       30000 non-null  int64\n",
            " 7   PAY_2                       30000 non-null  int64\n",
            " 8   PAY_3                       30000 non-null  int64\n",
            " 9   PAY_4                       30000 non-null  int64\n",
            " 10  PAY_5                       30000 non-null  int64\n",
            " 11  PAY_6                       30000 non-null  int64\n",
            " 12  BILL_AMT1                   30000 non-null  int64\n",
            " 13  BILL_AMT2                   30000 non-null  int64\n",
            " 14  BILL_AMT3                   30000 non-null  int64\n",
            " 15  BILL_AMT4                   30000 non-null  int64\n",
            " 16  BILL_AMT5                   30000 non-null  int64\n",
            " 17  BILL_AMT6                   30000 non-null  int64\n",
            " 18  PAY_AMT1                    30000 non-null  int64\n",
            " 19  PAY_AMT2                    30000 non-null  int64\n",
            " 20  PAY_AMT3                    30000 non-null  int64\n",
            " 21  PAY_AMT4                    30000 non-null  int64\n",
            " 22  PAY_AMT5                    30000 non-null  int64\n",
            " 23  PAY_AMT6                    30000 non-null  int64\n",
            " 24  default payment next month  30000 non-null  int64\n",
            "dtypes: int64(25)\n",
            "memory usage: 5.7 MB\n"
          ],
          "name": "stdout"
        }
      ]
    },
    {
      "cell_type": "markdown",
      "metadata": {
        "id": "6ZZLCp20HDfk",
        "colab_type": "text"
      },
      "source": [
        "# Information about the data types. All are int64"
      ]
    },
    {
      "cell_type": "code",
      "metadata": {
        "id": "h2iRL6g8HGt4",
        "colab_type": "code",
        "outputId": "8bf4dc82-7751-41f5-cdf0-cec49e948c8f",
        "colab": {
          "base_uri": "https://localhost:8080/",
          "height": 472
        }
      },
      "source": [
        "print(Fraud.dtypes)"
      ],
      "execution_count": 122,
      "outputs": [
        {
          "output_type": "stream",
          "text": [
            "ID                            int64\n",
            "LIMIT_BAL                     int64\n",
            "SEX                           int64\n",
            "EDUCATION                     int64\n",
            "MARRIAGE                      int64\n",
            "AGE                           int64\n",
            "PAY_0                         int64\n",
            "PAY_2                         int64\n",
            "PAY_3                         int64\n",
            "PAY_4                         int64\n",
            "PAY_5                         int64\n",
            "PAY_6                         int64\n",
            "BILL_AMT1                     int64\n",
            "BILL_AMT2                     int64\n",
            "BILL_AMT3                     int64\n",
            "BILL_AMT4                     int64\n",
            "BILL_AMT5                     int64\n",
            "BILL_AMT6                     int64\n",
            "PAY_AMT1                      int64\n",
            "PAY_AMT2                      int64\n",
            "PAY_AMT3                      int64\n",
            "PAY_AMT4                      int64\n",
            "PAY_AMT5                      int64\n",
            "PAY_AMT6                      int64\n",
            "default payment next month    int64\n",
            "dtype: object\n"
          ],
          "name": "stdout"
        }
      ]
    },
    {
      "cell_type": "markdown",
      "metadata": {
        "id": "JsyShXHBevMF",
        "colab_type": "text"
      },
      "source": [
        "# Check for corrupted or missing data"
      ]
    },
    {
      "cell_type": "code",
      "metadata": {
        "id": "YXEINCXWe2rH",
        "colab_type": "code",
        "outputId": "3b733591-97bf-446f-9a95-339c1537b163",
        "colab": {
          "base_uri": "https://localhost:8080/",
          "height": 472
        }
      },
      "source": [
        "print(Fraud.isnull().sum())"
      ],
      "execution_count": 123,
      "outputs": [
        {
          "output_type": "stream",
          "text": [
            "ID                            0\n",
            "LIMIT_BAL                     0\n",
            "SEX                           0\n",
            "EDUCATION                     0\n",
            "MARRIAGE                      0\n",
            "AGE                           0\n",
            "PAY_0                         0\n",
            "PAY_2                         0\n",
            "PAY_3                         0\n",
            "PAY_4                         0\n",
            "PAY_5                         0\n",
            "PAY_6                         0\n",
            "BILL_AMT1                     0\n",
            "BILL_AMT2                     0\n",
            "BILL_AMT3                     0\n",
            "BILL_AMT4                     0\n",
            "BILL_AMT5                     0\n",
            "BILL_AMT6                     0\n",
            "PAY_AMT1                      0\n",
            "PAY_AMT2                      0\n",
            "PAY_AMT3                      0\n",
            "PAY_AMT4                      0\n",
            "PAY_AMT5                      0\n",
            "PAY_AMT6                      0\n",
            "default payment next month    0\n",
            "dtype: int64\n"
          ],
          "name": "stdout"
        }
      ]
    },
    {
      "cell_type": "markdown",
      "metadata": {
        "id": "hk14fMjxfARy",
        "colab_type": "text"
      },
      "source": [
        "# There is no missing data in the entire dataset."
      ]
    },
    {
      "cell_type": "markdown",
      "metadata": {
        "id": "9u8QpA5IfTYt",
        "colab_type": "text"
      },
      "source": [
        "# Check for Data unbalance"
      ]
    },
    {
      "cell_type": "code",
      "metadata": {
        "id": "l7kMApmMfdrp",
        "colab_type": "code",
        "outputId": "5adf6a8c-2d01-4103-b176-d659868fea61",
        "colab": {
          "base_uri": "https://localhost:8080/",
          "height": 87
        }
      },
      "source": [
        "Fraud.groupby('default payment next month').size()"
      ],
      "execution_count": 124,
      "outputs": [
        {
          "output_type": "execute_result",
          "data": {
            "text/plain": [
              "default payment next month\n",
              "0    23364\n",
              "1     6636\n",
              "dtype: int64"
            ]
          },
          "metadata": {
            "tags": []
          },
          "execution_count": 124
        }
      ]
    },
    {
      "cell_type": "code",
      "metadata": {
        "id": "NTykxjX5QZUR",
        "colab_type": "code",
        "outputId": "be380a03-a3bb-4da6-eccf-56522746d1f8",
        "colab": {
          "base_uri": "https://localhost:8080/",
          "height": 404
        }
      },
      "source": [
        "temp = Fraud['default payment next month'].value_counts()\n",
        "df = pd.DataFrame({'default payment next month': temp.index,'values': temp.values})\n",
        "plt.figure(figsize = (6,6))\n",
        "plt.title('Default Credit Card Clients - Data unbalance (Default = 0, Not Default = 1)')\n",
        "sns.barplot(x = 'default payment next month', y=\"values\", data=df)\n",
        "plt.show()"
      ],
      "execution_count": 125,
      "outputs": [
        {
          "output_type": "display_data",
          "data": {
            "image/png": "[encoded data removed]",
            "text/plain": [
              "<Figure size 432x432 with 1 Axes>"
            ]
          },
          "metadata": {
            "tags": []
          }
        }
      ]
    },
    {
      "cell_type": "markdown",
      "metadata": {
        "id": "zoWMc_V622l1",
        "colab_type": "text"
      },
      "source": [
        "# From the target value which is default payment next month, the data has no large unbalance data. 6,636 out of 30,000 of clients will default next month. "
      ]
    },
    {
      "cell_type": "markdown",
      "metadata": {
        "id": "SWCOTPF54JBe",
        "colab_type": "text"
      },
      "source": [
        "# Exploratory Data Analysis"
      ]
    },
    {
      "cell_type": "code",
      "metadata": {
        "id": "3fYMbzQ44XWM",
        "colab_type": "code",
        "outputId": "7608682a-77d2-4a9f-836b-4ca61ed5dd77",
        "colab": {
          "base_uri": "https://localhost:8080/",
          "height": 405
        }
      },
      "source": [
        "plt.figure(figsize = (14,6))\n",
        "df = pd.DataFrame({'LIMIT_BAL': temp.index,'values': temp.values})\n",
        "plt.title('Amount of credit limit - Density Plot')\n",
        "sns.distplot(Fraud['LIMIT_BAL'],kde=True, bins=200, color='blue')\n",
        "plt.show()"
      ],
      "execution_count": 126,
      "outputs": [
        {
          "output_type": "display_data",
          "data": {
            "image/png": "[encoded data removed]",
            "text/plain": [
              "<Figure size 1008x432 with 1 Axes>"
            ]
          },
          "metadata": {
            "tags": []
          }
        }
      ]
    },
    {
      "cell_type": "code",
      "metadata": {
        "id": "xwNSU-AR5BmT",
        "colab_type": "code",
        "outputId": "ef62b87e-4ea1-4468-fd2f-5bf46b2cca8c",
        "colab": {
          "base_uri": "https://localhost:8080/",
          "height": 34
        }
      },
      "source": [
        "Fraud['LIMIT_BAL'].value_counts().shape"
      ],
      "execution_count": 127,
      "outputs": [
        {
          "output_type": "execute_result",
          "data": {
            "text/plain": [
              "(81,)"
            ]
          },
          "metadata": {
            "tags": []
          },
          "execution_count": 127
        }
      ]
    },
    {
      "cell_type": "code",
      "metadata": {
        "id": "S8t9d_WU5QW4",
        "colab_type": "code",
        "outputId": "1a37493f-53ee-463c-e9f4-9074d4cdfe84",
        "colab": {
          "base_uri": "https://localhost:8080/",
          "height": 122
        }
      },
      "source": [
        "Fraud['LIMIT_BAL'].value_counts().head(5)"
      ],
      "execution_count": 128,
      "outputs": [
        {
          "output_type": "execute_result",
          "data": {
            "text/plain": [
              "50000     3365\n",
              "20000     1976\n",
              "30000     1610\n",
              "80000     1567\n",
              "200000    1528\n",
              "Name: LIMIT_BAL, dtype: int64"
            ]
          },
          "metadata": {
            "tags": []
          },
          "execution_count": 128
        }
      ]
    },
    {
      "cell_type": "markdown",
      "metadata": {
        "id": "6-GV60Vv5jWt",
        "colab_type": "text"
      },
      "source": [
        "# From above analysis, the largest number of credit cards are with limit of 50,000, followed by 20,000 and 30,000."
      ]
    },
    {
      "cell_type": "markdown",
      "metadata": {
        "id": "9mQJVkooU6_s",
        "colab_type": "text"
      },
      "source": [
        "# Let's visualize the density plot for amount of credit limit i.e.  (LIMIT_BAL), grouped by default payment next month."
      ]
    },
    {
      "cell_type": "code",
      "metadata": {
        "id": "N2Uf0Y6g6UEf",
        "colab_type": "code",
        "outputId": "ec2c3664-d8cc-4083-d2de-e4248a9ff24c",
        "colab": {
          "base_uri": "https://localhost:8080/",
          "height": 405
        }
      },
      "source": [
        "class_0 = Fraud.loc[Fraud['default payment next month'] == 0]['LIMIT_BAL']\n",
        "class_1 = Fraud.loc[Fraud['default payment next month'] == 1]['LIMIT_BAL']\n",
        "plt.figure(figsize = (14,6))\n",
        "plt.title('Default amount of credit limit - Payment grouped for next month')\n",
        "sns.distplot(class_1,kde=True,bins=200, color=\"red\")\n",
        "sns.distplot(class_0,kde=True,bins=200, color=\"green\")\n",
        "plt.show()"
      ],
      "execution_count": 129,
      "outputs": [
        {
          "output_type": "display_data",
          "data": {
            "image/png": "[encoded data removed]",
            "text/plain": [
              "<Figure size 1008x432 with 1 Axes>"
            ]
          },
          "metadata": {
            "tags": []
          }
        }
      ]
    },
    {
      "cell_type": "markdown",
      "metadata": {
        "id": "ODy04wncaG0A",
        "colab_type": "text"
      },
      "source": [
        "# The density for this interval is larger for defaults than non-defaults has most of defaults are for credit limit 0-100,000. Larger defaults number are for the amounts of 20,000, 30,000 and 50,000."
      ]
    },
    {
      "cell_type": "markdown",
      "metadata": {
        "id": "YN5qEctpHE3n",
        "colab_type": "text"
      },
      "source": [
        "# Credit limit distribution vs. sex where 1 is for male and 2 for female"
      ]
    },
    {
      "cell_type": "code",
      "metadata": {
        "id": "AIlan2OhG_Y-",
        "colab_type": "code",
        "outputId": "6332d980-fa37-4818-d79d-b7fbcc2d0d75",
        "colab": {
          "base_uri": "https://localhost:8080/",
          "height": 399
        }
      },
      "source": [
        "fig, (ax1, ax2) = plt.subplots(ncols=2, figsize=(12,6))\n",
        "s = sns.boxplot(ax = ax1, x=\"SEX\", y=\"LIMIT_BAL\", hue=\"SEX\",data=Fraud, palette=\"PRGn\",showfliers=True)\n",
        "s = sns.boxplot(ax = ax2, x=\"SEX\", y=\"LIMIT_BAL\", hue=\"SEX\",data=Fraud, palette=\"PRGn\",showfliers=False)\n",
        "plt.show();"
      ],
      "execution_count": 130,
      "outputs": [
        {
          "output_type": "display_data",
          "data": {
            "image/png": "[encoded data removed]",
            "text/plain": [
              "<Figure size 864x432 with 2 Axes>"
            ]
          },
          "metadata": {
            "tags": []
          }
        }
      ]
    },
    {
      "cell_type": "markdown",
      "metadata": {
        "id": "PQGkcN3DJq5Q",
        "colab_type": "text"
      },
      "source": [
        "# From above boxplot, the limit credit amount is quite balanced between sexes. "
      ]
    },
    {
      "cell_type": "markdown",
      "metadata": {
        "id": "Dy0ANW_2nSVw",
        "colab_type": "text"
      },
      "source": [
        "# Sex, Education, Age and Marriage Features"
      ]
    },
    {
      "cell_type": "markdown",
      "metadata": {
        "id": "-BANbsotrYmZ",
        "colab_type": "text"
      },
      "source": [
        "# Let's show sex, education, age and marriage distributions.\n",
        "\n",
        "# I would like to show the boxplots for age distribution grouped by Sex and Marriage.\n",
        "# Sex: Gender (1=male, 2=female)\n",
        "# Marriage: Marital status (1=married, 2=single, 3=others)"
      ]
    },
    {
      "cell_type": "code",
      "metadata": {
        "id": "MAlTrbPqr9dx",
        "colab_type": "code",
        "outputId": "73ee2543-5daa-4c02-f798-2bb3dd1a8174",
        "colab": {
          "base_uri": "https://localhost:8080/",
          "height": 384
        }
      },
      "source": [
        "def boxplot_variation(feature1, feature2, feature3, width=16):\n",
        "    fig, ax1 = plt.subplots(ncols=1, figsize=(width,6))\n",
        "    s = sns.boxplot(ax = ax1,x=feature1, y=feature2, hue=feature3,\n",
        "                data=Fraud, palette=\"PRGn\",showfliers=False)\n",
        "    s.set_xticklabels(s.get_xticklabels(),rotation=90)\n",
        "    plt.show();\n",
        "boxplot_variation('MARRIAGE','AGE', 'SEX',8)"
      ],
      "execution_count": 131,
      "outputs": [
        {
          "output_type": "display_data",
          "data": {
            "image/png": "[encoded data removed]",
            "text/plain": [
              "<Figure size 576x432 with 1 Axes>"
            ]
          },
          "metadata": {
            "tags": []
          }
        }
      ]
    },
    {
      "cell_type": "markdown",
      "metadata": {
        "id": "Kit3zfYgv8ao",
        "colab_type": "text"
      },
      "source": [
        "# I could not specify the marital status 0 as Q1 values are above values for married of both sexes. The marital status 3 (others) has the mean values of over 40 and over 60 of the Q4 values are mostly divorced or widowed."
      ]
    },
    {
      "cell_type": "markdown",
      "metadata": {
        "id": "SuxPfNvi00v4",
        "colab_type": "text"
      },
      "source": [
        "# Education and marriage"
      ]
    },
    {
      "cell_type": "markdown",
      "metadata": {
        "id": "7S-WQcjPzUxt",
        "colab_type": "text"
      },
      "source": [
        "# I would like to show the boxplots for age distribution grouped by education and marriage."
      ]
    },
    {
      "cell_type": "markdown",
      "metadata": {
        "id": "hfqX28yG0H1e",
        "colab_type": "text"
      },
      "source": [
        "# Where Education: (1=graduate school, 2=university, 3=high school, 4=others, 5=unknown, 6=unknown)"
      ]
    },
    {
      "cell_type": "code",
      "metadata": {
        "id": "gw3JQfSA0tE4",
        "colab_type": "code",
        "outputId": "431b61a7-3fdf-4fcf-ac7a-57fab68efe90",
        "colab": {
          "base_uri": "https://localhost:8080/",
          "height": 384
        }
      },
      "source": [
        "boxplot_variation('EDUCATION','AGE', 'MARRIAGE',15)"
      ],
      "execution_count": 132,
      "outputs": [
        {
          "output_type": "display_data",
          "data": {
            "image/png": "[encoded data removed]",
            "text/plain": [
              "<Figure size 1080x432 with 1 Axes>"
            ]
          },
          "metadata": {
            "tags": []
          }
        }
      ]
    },
    {
      "cell_type": "markdown",
      "metadata": {
        "id": "xdv91j-f1qez",
        "colab_type": "text"
      },
      "source": [
        "# Credit amount limit, Sex and Age"
      ]
    },
    {
      "cell_type": "markdown",
      "metadata": {
        "id": "gG6He-Mx2J-f",
        "colab_type": "text"
      },
      "source": [
        "# I would like to show the boxplots with credit amount limit distribution grouped by sex and age."
      ]
    },
    {
      "cell_type": "code",
      "metadata": {
        "id": "q3lcFNzN2bJ4",
        "colab_type": "code",
        "outputId": "7a04e378-a32e-4c90-ea51-a89a4550e96a",
        "colab": {
          "base_uri": "https://localhost:8080/",
          "height": 391
        }
      },
      "source": [
        "boxplot_variation('AGE','LIMIT_BAL', 'SEX',20)"
      ],
      "execution_count": 133,
      "outputs": [
        {
          "output_type": "display_data",
          "data": {
            "image/png": "[encoded data removed]",
            "text/plain": [
              "<Figure size 1440x432 with 1 Axes>"
            ]
          },
          "metadata": {
            "tags": []
          }
        }
      ]
    },
    {
      "cell_type": "markdown",
      "metadata": {
        "id": "vc8xrlqPBwKq",
        "colab_type": "text"
      },
      "source": [
        "# From above graph, it was deduced that the age for both male and female are increasing in values for Q3 and Q4 around 35 years. Then, starts to flunctuate and get to a maximum age 64 of Q4 for males "
      ]
    },
    {
      "cell_type": "markdown",
      "metadata": {
        "id": "5zrAwj9RKjOM",
        "colab_type": "text"
      },
      "source": [
        "# Credit amount limit, education and marriage status"
      ]
    },
    {
      "cell_type": "markdown",
      "metadata": {
        "id": "cbKAc7c9LJs4",
        "colab_type": "text"
      },
      "source": [
        "# I would like to show the boxplots with credit amount limit distribution grouped by education level and marriage status"
      ]
    },
    {
      "cell_type": "code",
      "metadata": {
        "id": "I9uG9EY8Lanu",
        "colab_type": "code",
        "outputId": "65251183-caa3-42d8-bd80-60749d94dab7",
        "colab": {
          "base_uri": "https://localhost:8080/",
          "height": 384
        }
      },
      "source": [
        "boxplot_variation('MARRIAGE','LIMIT_BAL', 'EDUCATION',12)"
      ],
      "execution_count": 134,
      "outputs": [
        {
          "output_type": "display_data",
          "data": {
            "image/png": "[encoded data removed]",
            "text/plain": [
              "<Figure size 864x432 with 1 Axes>"
            ]
          },
          "metadata": {
            "tags": []
          }
        }
      ]
    },
    {
      "cell_type": "markdown",
      "metadata": {
        "id": "3_JAeH4RX8iS",
        "colab_type": "text"
      },
      "source": [
        "# Features correlation"
      ]
    },
    {
      "cell_type": "markdown",
      "metadata": {
        "id": "fhRKOaI2YGQp",
        "colab_type": "text"
      },
      "source": [
        "# Show correlation among variables"
      ]
    },
    {
      "cell_type": "markdown",
      "metadata": {
        "id": "SjoIu_S8YceL",
        "colab_type": "text"
      },
      "source": [
        "# Correlation of Amount of bill statement in April - September 2005."
      ]
    },
    {
      "cell_type": "code",
      "metadata": {
        "id": "YlugTzMbYqv1",
        "colab_type": "code",
        "outputId": "4d49902d-45f1-4ad3-c0fa-f3fbc52aba25",
        "colab": {
          "base_uri": "https://localhost:8080/",
          "height": 515
        }
      },
      "source": [
        "var = ['BILL_AMT1','BILL_AMT2','BILL_AMT3','BILL_AMT4','BILL_AMT5','BILL_AMT6']\n",
        "plt.figure(figsize = (8,8))\n",
        "plt.title('Amount of bill statement from (Apr-Sept) \\ncorrelation')\n",
        "corr = Fraud[var].corr()\n",
        "sns.heatmap(corr,xticklabels=corr.columns,yticklabels=corr.columns,linewidths=.1,vmin=-1, vmax=1)\n",
        "plt.show()"
      ],
      "execution_count": 135,
      "outputs": [
        {
          "output_type": "display_data",
          "data": {
            "image/png": "[encoded data removed]",
            "text/plain": [
              "<Figure size 576x576 with 2 Axes>"
            ]
          },
          "metadata": {
            "tags": []
          }
        }
      ]
    },
    {
      "cell_type": "markdown",
      "metadata": {
        "id": "yWv2SA0bY3Vi",
        "colab_type": "text"
      },
      "source": [
        "# We can see Correlation is decreasing with distance between months. Lowest correlations are between Sept-April."
      ]
    },
    {
      "cell_type": "markdown",
      "metadata": {
        "id": "neScPKx9ZKeN",
        "colab_type": "text"
      },
      "source": [
        "# Correlation of Amount of previous payment in April - September 2005."
      ]
    },
    {
      "cell_type": "code",
      "metadata": {
        "id": "nZGbhEU6ZiaA",
        "colab_type": "code",
        "outputId": "595029ba-b39b-4630-f634-217cb0ff506f",
        "colab": {
          "base_uri": "https://localhost:8080/",
          "height": 515
        }
      },
      "source": [
        "var = ['PAY_AMT1', 'PAY_AMT2', 'PAY_AMT3', 'PAY_AMT4', 'PAY_AMT5']\n",
        "plt.figure(figsize = (8,8))\n",
        "plt.title('Amount of previous payment (Apr-Sept) \\ncorrelation plot)')\n",
        "corr = Fraud[var].corr()\n",
        "sns.heatmap(corr,xticklabels=corr.columns,yticklabels=corr.columns,linewidths=.1,vmin=-1, vmax=1)\n",
        "plt.show()"
      ],
      "execution_count": 136,
      "outputs": [
        {
          "output_type": "display_data",
          "data": {
            "image/png": "[encoded data removed]",
            "text/plain": [
              "<Figure size 576x576 with 2 Axes>"
            ]
          },
          "metadata": {
            "tags": []
          }
        }
      ]
    },
    {
      "cell_type": "markdown",
      "metadata": {
        "id": "ZyPc2cxWZ2Ol",
        "colab_type": "text"
      },
      "source": [
        "# There are no correlations between amounts of previous payments for April-Sept 2005."
      ]
    },
    {
      "cell_type": "markdown",
      "metadata": {
        "id": "fSyCB0UEaPJW",
        "colab_type": "text"
      },
      "source": [
        "# Correlation between Repayment status in April - September 2005."
      ]
    },
    {
      "cell_type": "code",
      "metadata": {
        "id": "0LzFWWwtauEB",
        "colab_type": "code",
        "outputId": "0c4dcd62-8cd4-4ba0-9199-a4916b166477",
        "colab": {
          "base_uri": "https://localhost:8080/",
          "height": 515
        }
      },
      "source": [
        "var = ['PAY_0','PAY_2', 'PAY_3', 'PAY_4', 'PAY_5', 'PAY_6']\n",
        "plt.figure(figsize = (8,8))\n",
        "plt.title('Repayment status (Apr-Sept) \\ncorrelation plot')\n",
        "corr = Fraud[var].corr()\n",
        "sns.heatmap(corr,xticklabels=corr.columns,yticklabels=corr.columns,linewidths=.1,vmin=-1, vmax=1)\n",
        "plt.show()"
      ],
      "execution_count": 137,
      "outputs": [
        {
          "output_type": "display_data",
          "data": {
            "image/png": "[encoded data removed]",
            "text/plain": [
              "<Figure size 576x576 with 2 Axes>"
            ]
          },
          "metadata": {
            "tags": []
          }
        }
      ]
    },
    {
      "cell_type": "markdown",
      "metadata": {
        "id": "OUSBg_jya9dF",
        "colab_type": "text"
      },
      "source": [
        "# We can see Correlation is decreasing with distance between months. Lowest correlations are between Sept-April."
      ]
    },
    {
      "cell_type": "markdown",
      "metadata": {
        "id": "JuS_NycKZcwb",
        "colab_type": "text"
      },
      "source": [
        "# Features importance and sort features with Top 12 absolute correlation"
      ]
    },
    {
      "cell_type": "code",
      "metadata": {
        "id": "5XoSRHGY2SDr",
        "colab_type": "code",
        "colab": {}
      },
      "source": [
        "ix = abs(Fraud.corr()).sort_values('default payment next month', ascending=False)"
      ],
      "execution_count": 0,
      "outputs": []
    },
    {
      "cell_type": "code",
      "metadata": {
        "id": "VHgKl-sGZxWE",
        "colab_type": "code",
        "colab": {}
      },
      "source": [
        " top12_features = ix['default payment next month'].index[:13]"
      ],
      "execution_count": 0,
      "outputs": []
    },
    {
      "cell_type": "code",
      "metadata": {
        "id": "1Oenh8d5Z1x3",
        "colab_type": "code",
        "outputId": "a7830494-38ff-4bed-87e3-616bc4ef7bc9",
        "colab": {
          "base_uri": "https://localhost:8080/",
          "height": 87
        }
      },
      "source": [
        "top12_features"
      ],
      "execution_count": 140,
      "outputs": [
        {
          "output_type": "execute_result",
          "data": {
            "text/plain": [
              "Index(['default payment next month', 'PAY_0', 'PAY_2', 'PAY_3', 'PAY_4',\n",
              "       'PAY_5', 'PAY_6', 'LIMIT_BAL', 'PAY_AMT1', 'PAY_AMT2', 'PAY_AMT4',\n",
              "       'PAY_AMT3', 'PAY_AMT5'],\n",
              "      dtype='object')"
            ]
          },
          "metadata": {
            "tags": []
          },
          "execution_count": 140
        }
      ]
    },
    {
      "cell_type": "code",
      "metadata": {
        "id": "rLv8PdinaAL1",
        "colab_type": "code",
        "outputId": "665d1b82-68b2-40a9-e4e6-04b16eea2cc5",
        "colab": {
          "base_uri": "https://localhost:8080/",
          "height": 1000
        }
      },
      "source": [
        "plt.figure(figsize=(20,15))\n",
        "sns.heatmap(Fraud.corr(), cmap = \"Oranges\")\n",
        "plt.title('Heatmap of Correlation Matrix For Features')\n",
        "plt.show()"
      ],
      "execution_count": 141,
      "outputs": [
        {
          "output_type": "display_data",
          "data": {
            "image/png": "[encoded data removed]",
            "text/plain": [
              "<Figure size 1440x1080 with 2 Axes>"
            ]
          },
          "metadata": {
            "tags": []
          }
        }
      ]
    },
    {
      "cell_type": "code",
      "metadata": {
        "id": "nJbDzs9vaG68",
        "colab_type": "code",
        "outputId": "d52077c6-b9d6-4dc7-ec3e-e4b0bd723622",
        "colab": {
          "base_uri": "https://localhost:8080/",
          "height": 632
        }
      },
      "source": [
        "plt.figure(figsize=(15,8))\n",
        "sns.heatmap(Fraud[top12_features].corr(), cmap = 'Oranges')\n",
        "plt.title('Heatmap of Correlation Matrix For Top Features')\n",
        "plt.show()"
      ],
      "execution_count": 142,
      "outputs": [
        {
          "output_type": "display_data",
          "data": {
            "image/png": "[encoded data removed]",
            "text/plain": [
              "<Figure size 1080x576 with 2 Axes>"
            ]
          },
          "metadata": {
            "tags": []
          }
        }
      ]
    },
    {
      "cell_type": "code",
      "metadata": {
        "id": "ef11AQJiqlwo",
        "colab_type": "code",
        "colab": {}
      },
      "source": [
        "from imblearn.over_sampling import SMOTE"
      ],
      "execution_count": 0,
      "outputs": []
    },
    {
      "cell_type": "code",
      "metadata": {
        "id": "MbUinehXqsDA",
        "colab_type": "code",
        "colab": {}
      },
      "source": [
        "sm = SMOTE(random_state=seed, ratio=1.0)"
      ],
      "execution_count": 0,
      "outputs": []
    },
    {
      "cell_type": "code",
      "metadata": {
        "id": "07-Op2U3pfNz",
        "colab_type": "code",
        "colab": {}
      },
      "source": [
        "q=Fraud['PAY_AMT1'].quantile(0.99)\n",
        "Fraud_1=Fraud[Fraud['PAY_AMT1']<q]\n",
        "q=Fraud_1['PAY_AMT2'].quantile(0.99)\n",
        "Fraud_2=Fraud_1[Fraud_1['PAY_AMT2']<q]\n",
        "q=Fraud_2['BILL_AMT6'].quantile(0.99)\n",
        "Fraud_3=Fraud_2[Fraud_2['BILL_AMT6']<q]\n",
        "q=Fraud_3['BILL_AMT6'].quantile(0.99)\n",
        "Fraud_4=Fraud_3[Fraud_3['PAY_AMT6']<q]\n",
        "cleaned_Fraud=Fraud_4.reset_index(drop=True)\n",
        "seed=7\n",
        "scoring='accuracy'\n",
        "no_of_fold=10\n",
        "t=0.2"
      ],
      "execution_count": 0,
      "outputs": []
    },
    {
      "cell_type": "code",
      "metadata": {
        "id": "1j8O9H0mpR1g",
        "colab_type": "code",
        "colab": {}
      },
      "source": [
        "AR=cleaned_Fraud.values"
      ],
      "execution_count": 0,
      "outputs": []
    },
    {
      "cell_type": "code",
      "metadata": {
        "id": "mvo6pqs9pWR-",
        "colab_type": "code",
        "colab": {}
      },
      "source": [
        "X=AR[:,:-1]\n",
        "Y=AR[:,-1]"
      ],
      "execution_count": 0,
      "outputs": []
    },
    {
      "cell_type": "code",
      "metadata": {
        "id": "EQW9vabqt41t",
        "colab_type": "code",
        "colab": {}
      },
      "source": [
        "from sklearn.decomposition import PCA\n",
        "pca = PCA(n_components=2)\n",
        "principalComponents = pca.fit_transform(X)\n",
        "principalDf = pd.DataFrame(data = principalComponents\n",
        "             , columns = ['principal component 1', 'principal component 2'])"
      ],
      "execution_count": 0,
      "outputs": []
    },
    {
      "cell_type": "code",
      "metadata": {
        "id": "Nvo0EkD7t-eN",
        "colab_type": "code",
        "outputId": "ee61826a-5d64-4bbf-e00b-40fab0457126",
        "colab": {
          "base_uri": "https://localhost:8080/",
          "height": 204
        }
      },
      "source": [
        "principalDf.head()"
      ],
      "execution_count": 149,
      "outputs": [
        {
          "output_type": "execute_result",
          "data": {
            "text/html": [
              "<div>\n",
              "<style scoped>\n",
              "    .dataframe tbody tr th:only-of-type {\n",
              "        vertical-align: middle;\n",
              "    }\n",
              "\n",
              "    .dataframe tbody tr th {\n",
              "        vertical-align: top;\n",
              "    }\n",
              "\n",
              "    .dataframe thead th {\n",
              "        text-align: right;\n",
              "    }\n",
              "</style>\n",
              "<table border=\"1\" class=\"dataframe\">\n",
              "  <thead>\n",
              "    <tr style=\"text-align: right;\">\n",
              "      <th></th>\n",
              "      <th>principal component 1</th>\n",
              "      <th>principal component 2</th>\n",
              "    </tr>\n",
              "  </thead>\n",
              "  <tbody>\n",
              "    <tr>\n",
              "      <th>0</th>\n",
              "      <td>-164461.281665</td>\n",
              "      <td>-51109.690986</td>\n",
              "    </tr>\n",
              "    <tr>\n",
              "      <th>1</th>\n",
              "      <td>-99739.455038</td>\n",
              "      <td>25168.995372</td>\n",
              "    </tr>\n",
              "    <tr>\n",
              "      <th>2</th>\n",
              "      <td>-90641.131978</td>\n",
              "      <td>-20052.724414</td>\n",
              "    </tr>\n",
              "    <tr>\n",
              "      <th>3</th>\n",
              "      <td>-73194.224706</td>\n",
              "      <td>-85342.512306</td>\n",
              "    </tr>\n",
              "    <tr>\n",
              "      <th>4</th>\n",
              "      <td>-113702.090486</td>\n",
              "      <td>-52400.820375</td>\n",
              "    </tr>\n",
              "  </tbody>\n",
              "</table>\n",
              "</div>"
            ],
            "text/plain": [
              "   principal component 1  principal component 2\n",
              "0         -164461.281665          -51109.690986\n",
              "1          -99739.455038           25168.995372\n",
              "2          -90641.131978          -20052.724414\n",
              "3          -73194.224706          -85342.512306\n",
              "4         -113702.090486          -52400.820375"
            ]
          },
          "metadata": {
            "tags": []
          },
          "execution_count": 149
        }
      ]
    },
    {
      "cell_type": "code",
      "metadata": {
        "id": "mlPJ2aw6uEjO",
        "colab_type": "code",
        "colab": {}
      },
      "source": [
        "finalDf = pd.concat([principalDf, Fraud['default payment next month']], axis = 1)"
      ],
      "execution_count": 0,
      "outputs": []
    },
    {
      "cell_type": "code",
      "metadata": {
        "id": "QzLQs4lFuGnj",
        "colab_type": "code",
        "outputId": "55c73389-a53a-46c6-c8d4-7158f7b813f7",
        "colab": {
          "base_uri": "https://localhost:8080/",
          "height": 34
        }
      },
      "source": [
        "finalDf.shape"
      ],
      "execution_count": 151,
      "outputs": [
        {
          "output_type": "execute_result",
          "data": {
            "text/plain": [
              "(30000, 3)"
            ]
          },
          "metadata": {
            "tags": []
          },
          "execution_count": 151
        }
      ]
    },
    {
      "cell_type": "code",
      "metadata": {
        "id": "W946VFeOuTjc",
        "colab_type": "code",
        "outputId": "0b27a48c-ba56-4ce5-bb25-4fad09bc80e9",
        "colab": {
          "base_uri": "https://localhost:8080/",
          "height": 523
        }
      },
      "source": [
        "fig = plt.figure(figsize = (8,8))\n",
        "ax = fig.add_subplot(1,1,1)\n",
        "ax.set_xlabel('Principal Component 1', fontsize = 15)\n",
        "ax.set_ylabel('Principal Component 2', fontsize = 15)\n",
        "ax.set_title('2 component PCA Default Payment', fontsize = 20)\n",
        "targets = [0, 1]\n",
        "colors = ['r', 'g']\n",
        "for target, color in zip(targets,colors):\n",
        " indicesToKeep = finalDf['default payment next month'] == target\n",
        " ax.scatter(finalDf.loc[indicesToKeep, 'principal component 1']\n",
        " , finalDf.loc[indicesToKeep, 'principal component 2']\n",
        " , c = color\n",
        " , s = 50)\n",
        "ax.legend(targets)\n",
        "ax.grid()"
      ],
      "execution_count": 153,
      "outputs": [
        {
          "output_type": "display_data",
          "data": {
            "image/png": "[encoded data removed]",
            "text/plain": [
              "<Figure size 576x576 with 1 Axes>"
            ]
          },
          "metadata": {
            "tags": []
          }
        }
      ]
    },
    {
      "cell_type": "markdown",
      "metadata": {
        "id": "V7aWBkhcuzNR",
        "colab_type": "text"
      },
      "source": [
        "# Modeling"
      ]
    },
    {
      "cell_type": "code",
      "metadata": {
        "id": "8FsZIIatvH4m",
        "colab_type": "code",
        "colab": {}
      },
      "source": [
        "x_train, x_test, y_train, y_test = train_test_split(X, Y, test_size=t, random_state=seed)"
      ],
      "execution_count": 0,
      "outputs": []
    },
    {
      "cell_type": "code",
      "metadata": {
        "id": "QjCJ777Hj-kt",
        "colab_type": "code",
        "colab": {}
      },
      "source": [
        "Alg_Mod=[]\n",
        "Alg_Mod.append(('LR', LogisticRegression()))\n",
        "Alg_Mod.append(('CARTR', RandomForestClassifier()))\n",
        "Alg_Mod.append(('CART', DecisionTreeClassifier()))\n",
        "Alg_Mod.append(('KNNC', KNeighborsClassifier()))\n",
        "Alg_Mod.append(('NB', GaussianNB()))"
      ],
      "execution_count": 0,
      "outputs": []
    },
    {
      "cell_type": "code",
      "metadata": {
        "id": "h_TAvczDkC9D",
        "colab_type": "code",
        "outputId": "1eda0cd8-dc23-41ae-adcc-bca337490e61",
        "colab": {
          "base_uri": "https://localhost:8080/",
          "height": 1000
        }
      },
      "source": [
        "res=[]\n",
        "names=[]\n",
        "for name,model in Alg_Mod:\n",
        "  kf=KFold(n_splits=no_of_fold, random_state=seed)\n",
        "  cv_result=cross_val_score(model, x_train, y_train, cv=kf, scoring=scoring)\n",
        "  res.append(cv_result)\n",
        "  names.append(name)\n",
        "  msg='%s:%f (%f)' % (name,cv_result.mean(), cv_result.std())\n",
        "  print(msg)"
      ],
      "execution_count": 156,
      "outputs": [
        {
          "output_type": "stream",
          "text": [
            "/usr/local/lib/python3.6/dist-packages/sklearn/model_selection/_split.py:296: FutureWarning: Setting a random_state has no effect since shuffle is False. This will raise an error in 0.24. You should leave random_state to its default (None), or set shuffle=True.\n",
            "  FutureWarning\n",
            "/usr/local/lib/python3.6/dist-packages/sklearn/linear_model/_logistic.py:940: ConvergenceWarning: lbfgs failed to converge (status=1):\n",
            "STOP: TOTAL NO. of ITERATIONS REACHED LIMIT.\n",
            "\n",
            "Increase the number of iterations (max_iter) or scale the data as shown in:\n",
            "    https://scikit-learn.org/stable/modules/preprocessing.html\n",
            "Please also refer to the documentation for alternative solver options:\n",
            "    https://scikit-learn.org/stable/modules/linear_model.html#logistic-regression\n",
            "  extra_warning_msg=_LOGISTIC_SOLVER_CONVERGENCE_MSG)\n",
            "/usr/local/lib/python3.6/dist-packages/sklearn/linear_model/_logistic.py:940: ConvergenceWarning: lbfgs failed to converge (status=1):\n",
            "STOP: TOTAL NO. of ITERATIONS REACHED LIMIT.\n",
            "\n",
            "Increase the number of iterations (max_iter) or scale the data as shown in:\n",
            "    https://scikit-learn.org/stable/modules/preprocessing.html\n",
            "Please also refer to the documentation for alternative solver options:\n",
            "    https://scikit-learn.org/stable/modules/linear_model.html#logistic-regression\n",
            "  extra_warning_msg=_LOGISTIC_SOLVER_CONVERGENCE_MSG)\n",
            "/usr/local/lib/python3.6/dist-packages/sklearn/linear_model/_logistic.py:940: ConvergenceWarning: lbfgs failed to converge (status=1):\n",
            "STOP: TOTAL NO. of ITERATIONS REACHED LIMIT.\n",
            "\n",
            "Increase the number of iterations (max_iter) or scale the data as shown in:\n",
            "    https://scikit-learn.org/stable/modules/preprocessing.html\n",
            "Please also refer to the documentation for alternative solver options:\n",
            "    https://scikit-learn.org/stable/modules/linear_model.html#logistic-regression\n",
            "  extra_warning_msg=_LOGISTIC_SOLVER_CONVERGENCE_MSG)\n",
            "/usr/local/lib/python3.6/dist-packages/sklearn/linear_model/_logistic.py:940: ConvergenceWarning: lbfgs failed to converge (status=1):\n",
            "STOP: TOTAL NO. of ITERATIONS REACHED LIMIT.\n",
            "\n",
            "Increase the number of iterations (max_iter) or scale the data as shown in:\n",
            "    https://scikit-learn.org/stable/modules/preprocessing.html\n",
            "Please also refer to the documentation for alternative solver options:\n",
            "    https://scikit-learn.org/stable/modules/linear_model.html#logistic-regression\n",
            "  extra_warning_msg=_LOGISTIC_SOLVER_CONVERGENCE_MSG)\n",
            "/usr/local/lib/python3.6/dist-packages/sklearn/linear_model/_logistic.py:940: ConvergenceWarning: lbfgs failed to converge (status=1):\n",
            "STOP: TOTAL NO. of ITERATIONS REACHED LIMIT.\n",
            "\n",
            "Increase the number of iterations (max_iter) or scale the data as shown in:\n",
            "    https://scikit-learn.org/stable/modules/preprocessing.html\n",
            "Please also refer to the documentation for alternative solver options:\n",
            "    https://scikit-learn.org/stable/modules/linear_model.html#logistic-regression\n",
            "  extra_warning_msg=_LOGISTIC_SOLVER_CONVERGENCE_MSG)\n",
            "/usr/local/lib/python3.6/dist-packages/sklearn/linear_model/_logistic.py:940: ConvergenceWarning: lbfgs failed to converge (status=1):\n",
            "STOP: TOTAL NO. of ITERATIONS REACHED LIMIT.\n",
            "\n",
            "Increase the number of iterations (max_iter) or scale the data as shown in:\n",
            "    https://scikit-learn.org/stable/modules/preprocessing.html\n",
            "Please also refer to the documentation for alternative solver options:\n",
            "    https://scikit-learn.org/stable/modules/linear_model.html#logistic-regression\n",
            "  extra_warning_msg=_LOGISTIC_SOLVER_CONVERGENCE_MSG)\n",
            "/usr/local/lib/python3.6/dist-packages/sklearn/linear_model/_logistic.py:940: ConvergenceWarning: lbfgs failed to converge (status=1):\n",
            "STOP: TOTAL NO. of ITERATIONS REACHED LIMIT.\n",
            "\n",
            "Increase the number of iterations (max_iter) or scale the data as shown in:\n",
            "    https://scikit-learn.org/stable/modules/preprocessing.html\n",
            "Please also refer to the documentation for alternative solver options:\n",
            "    https://scikit-learn.org/stable/modules/linear_model.html#logistic-regression\n",
            "  extra_warning_msg=_LOGISTIC_SOLVER_CONVERGENCE_MSG)\n",
            "/usr/local/lib/python3.6/dist-packages/sklearn/linear_model/_logistic.py:940: ConvergenceWarning: lbfgs failed to converge (status=1):\n",
            "STOP: TOTAL NO. of ITERATIONS REACHED LIMIT.\n",
            "\n",
            "Increase the number of iterations (max_iter) or scale the data as shown in:\n",
            "    https://scikit-learn.org/stable/modules/preprocessing.html\n",
            "Please also refer to the documentation for alternative solver options:\n",
            "    https://scikit-learn.org/stable/modules/linear_model.html#logistic-regression\n",
            "  extra_warning_msg=_LOGISTIC_SOLVER_CONVERGENCE_MSG)\n",
            "/usr/local/lib/python3.6/dist-packages/sklearn/model_selection/_split.py:296: FutureWarning: Setting a random_state has no effect since shuffle is False. This will raise an error in 0.24. You should leave random_state to its default (None), or set shuffle=True.\n",
            "  FutureWarning\n"
          ],
          "name": "stderr"
        },
        {
          "output_type": "stream",
          "text": [
            "LR:0.774550 (0.008786)\n",
            "CARTR:0.813872 (0.007853)\n"
          ],
          "name": "stdout"
        },
        {
          "output_type": "stream",
          "text": [
            "/usr/local/lib/python3.6/dist-packages/sklearn/model_selection/_split.py:296: FutureWarning: Setting a random_state has no effect since shuffle is False. This will raise an error in 0.24. You should leave random_state to its default (None), or set shuffle=True.\n",
            "  FutureWarning\n"
          ],
          "name": "stderr"
        },
        {
          "output_type": "stream",
          "text": [
            "CART:0.721947 (0.008791)\n"
          ],
          "name": "stdout"
        },
        {
          "output_type": "stream",
          "text": [
            "/usr/local/lib/python3.6/dist-packages/sklearn/model_selection/_split.py:296: FutureWarning: Setting a random_state has no effect since shuffle is False. This will raise an error in 0.24. You should leave random_state to its default (None), or set shuffle=True.\n",
            "  FutureWarning\n"
          ],
          "name": "stderr"
        },
        {
          "output_type": "stream",
          "text": [
            "KNNC:0.744939 (0.011143)\n",
            "NB:0.454424 (0.011432)\n"
          ],
          "name": "stdout"
        },
        {
          "output_type": "stream",
          "text": [
            "/usr/local/lib/python3.6/dist-packages/sklearn/model_selection/_split.py:296: FutureWarning: Setting a random_state has no effect since shuffle is False. This will raise an error in 0.24. You should leave random_state to its default (None), or set shuffle=True.\n",
            "  FutureWarning\n"
          ],
          "name": "stderr"
        }
      ]
    },
    {
      "cell_type": "code",
      "metadata": {
        "id": "tus7sph6obsb",
        "colab_type": "code",
        "colab": {}
      },
      "source": [
        "pipelines=[]\n",
        "pipelines.append(('ScaledLR',Pipeline([('Scaler', StandardScaler()),\\\n",
        "('LR',LogisticRegression())])))\n",
        "pipelines.append(('ScaledCART',Pipeline([('Scaler', StandardScaler()),\\\n",
        "('CART',DecisionTreeClassifier())])))\n",
        "pipelines.append(('ScaledCARTR',Pipeline([('Scaler', StandardScaler()),\\\n",
        "('CARTR',RandomForestClassifier())])))\n",
        "pipelines.append(('ScaledNB',Pipeline([('Scaler', StandardScaler()),\\\n",
        "('NB', GaussianNB())])))\n",
        "pipelines.append(('ScaledKNN',Pipeline([('Scaler', StandardScaler()),\\\n",
        "('KNNC', KNeighborsClassifier())])))"
      ],
      "execution_count": 0,
      "outputs": []
    },
    {
      "cell_type": "code",
      "metadata": {
        "id": "drx8N6g6okJh",
        "colab_type": "code",
        "outputId": "56a2cc2a-786c-4edb-8b07-d2d34975b5a8",
        "colab": {
          "base_uri": "https://localhost:8080/",
          "height": 299
        }
      },
      "source": [
        "res=[]\n",
        "names=[]\n",
        "for name,model in pipelines:\n",
        "  kf=KFold(n_splits=no_of_fold, random_state=seed)\n",
        "  cv_result=cross_val_score(model, x_train, y_train, cv=kf, scoring=scoring)\n",
        "  res.append(cv_result)\n",
        "  names.append(name)\n",
        "  msg='%s:%f (%f)' % (name,cv_result.mean(), cv_result.std())\n",
        "  print(msg)"
      ],
      "execution_count": 158,
      "outputs": [
        {
          "output_type": "stream",
          "text": [
            "/usr/local/lib/python3.6/dist-packages/sklearn/model_selection/_split.py:296: FutureWarning: Setting a random_state has no effect since shuffle is False. This will raise an error in 0.24. You should leave random_state to its default (None), or set shuffle=True.\n",
            "  FutureWarning\n"
          ],
          "name": "stderr"
        },
        {
          "output_type": "stream",
          "text": [
            "ScaledLR:0.804504 (0.009612)\n"
          ],
          "name": "stdout"
        },
        {
          "output_type": "stream",
          "text": [
            "/usr/local/lib/python3.6/dist-packages/sklearn/model_selection/_split.py:296: FutureWarning: Setting a random_state has no effect since shuffle is False. This will raise an error in 0.24. You should leave random_state to its default (None), or set shuffle=True.\n",
            "  FutureWarning\n"
          ],
          "name": "stderr"
        },
        {
          "output_type": "stream",
          "text": [
            "ScaledCART:0.720873 (0.009129)\n"
          ],
          "name": "stdout"
        },
        {
          "output_type": "stream",
          "text": [
            "/usr/local/lib/python3.6/dist-packages/sklearn/model_selection/_split.py:296: FutureWarning: Setting a random_state has no effect since shuffle is False. This will raise an error in 0.24. You should leave random_state to its default (None), or set shuffle=True.\n",
            "  FutureWarning\n"
          ],
          "name": "stderr"
        },
        {
          "output_type": "stream",
          "text": [
            "ScaledCARTR:0.813787 (0.008660)\n"
          ],
          "name": "stdout"
        },
        {
          "output_type": "stream",
          "text": [
            "/usr/local/lib/python3.6/dist-packages/sklearn/model_selection/_split.py:296: FutureWarning: Setting a random_state has no effect since shuffle is False. This will raise an error in 0.24. You should leave random_state to its default (None), or set shuffle=True.\n",
            "  FutureWarning\n"
          ],
          "name": "stderr"
        },
        {
          "output_type": "stream",
          "text": [
            "ScaledNB:0.744209 (0.012175)\n"
          ],
          "name": "stdout"
        },
        {
          "output_type": "stream",
          "text": [
            "/usr/local/lib/python3.6/dist-packages/sklearn/model_selection/_split.py:296: FutureWarning: Setting a random_state has no effect since shuffle is False. This will raise an error in 0.24. You should leave random_state to its default (None), or set shuffle=True.\n",
            "  FutureWarning\n"
          ],
          "name": "stderr"
        },
        {
          "output_type": "stream",
          "text": [
            "ScaledKNN:0.787056 (0.006509)\n"
          ],
          "name": "stdout"
        }
      ]
    },
    {
      "cell_type": "markdown",
      "metadata": {
        "id": "X1bghjpMKM-x",
        "colab_type": "text"
      },
      "source": [
        "# Decision Tree"
      ]
    },
    {
      "cell_type": "code",
      "metadata": {
        "id": "d1yiyXBfphZ6",
        "colab_type": "code",
        "outputId": "fbe1cd02-04ff-4a35-9ebf-a756019de2bb",
        "colab": {
          "base_uri": "https://localhost:8080/",
          "height": 122
        }
      },
      "source": [
        "CART=DecisionTreeClassifier()\n",
        "CART.fit(x_train,y_train)"
      ],
      "execution_count": 159,
      "outputs": [
        {
          "output_type": "execute_result",
          "data": {
            "text/plain": [
              "DecisionTreeClassifier(ccp_alpha=0.0, class_weight=None, criterion='gini',\n",
              "                       max_depth=None, max_features=None, max_leaf_nodes=None,\n",
              "                       min_impurity_decrease=0.0, min_impurity_split=None,\n",
              "                       min_samples_leaf=1, min_samples_split=2,\n",
              "                       min_weight_fraction_leaf=0.0, presort='deprecated',\n",
              "                       random_state=None, splitter='best')"
            ]
          },
          "metadata": {
            "tags": []
          },
          "execution_count": 159
        }
      ]
    },
    {
      "cell_type": "code",
      "metadata": {
        "id": "Ot-NY-vip7pL",
        "colab_type": "code",
        "colab": {}
      },
      "source": [
        "pred=CART.predict(x_test)"
      ],
      "execution_count": 0,
      "outputs": []
    },
    {
      "cell_type": "code",
      "metadata": {
        "id": "UbPrK9tFp-5S",
        "colab_type": "code",
        "outputId": "6df6aa58-df59-4ea8-f41d-b76425278fc5",
        "colab": {
          "base_uri": "https://localhost:8080/",
          "height": 227
        }
      },
      "source": [
        "print(accuracy_score(y_test, pred))\n",
        "print(confusion_matrix(y_test, pred))\n",
        "print(classification_report(y_test, pred))"
      ],
      "execution_count": 161,
      "outputs": [
        {
          "output_type": "stream",
          "text": [
            "0.7255070470952217\n",
            "[[3668  884]\n",
            " [ 713  553]]\n",
            "              precision    recall  f1-score   support\n",
            "\n",
            "           0       0.84      0.81      0.82      4552\n",
            "           1       0.38      0.44      0.41      1266\n",
            "\n",
            "    accuracy                           0.73      5818\n",
            "   macro avg       0.61      0.62      0.62      5818\n",
            "weighted avg       0.74      0.73      0.73      5818\n",
            "\n"
          ],
          "name": "stdout"
        }
      ]
    },
    {
      "cell_type": "code",
      "metadata": {
        "id": "FkECzB4ZKClk",
        "colab_type": "code",
        "outputId": "ce6c9c0e-4638-4846-a420-d6613e9f78a6",
        "colab": {
          "base_uri": "https://localhost:8080/",
          "height": 34
        }
      },
      "source": [
        "from sklearn.metrics import precision_recall_curve\n",
        "from sklearn.metrics import precision_score, recall_score\n",
        "from sklearn.metrics import f1_score\n",
        "from sklearn.metrics import auc\n",
        "# predict probabilities\n",
        "CART_probs = CART.predict_proba(x_test)\n",
        "# keep probabilities for the positive outcome only\n",
        "CART_probs = CART_probs[:, 1]\n",
        "# predict class values\n",
        "#yhat = model.predict(testX)\n",
        "yhat = CART.predict(x_test)\n",
        "CART_precision, CART_recall, _ = precision_recall_curve(y_test, CART_probs)\n",
        "CART_f1, CART_auc = f1_score(y_test, yhat), auc(CART_recall, CART_precision\n",
        ")\n",
        "# summarize scores\n",
        "print('DecisionTree: f1=%.3f auc=%.3f' % (CART_f1, CART_auc))"
      ],
      "execution_count": 162,
      "outputs": [
        {
          "output_type": "stream",
          "text": [
            "DecisionTree: f1=0.409 auc=0.472\n"
          ],
          "name": "stdout"
        }
      ]
    },
    {
      "cell_type": "code",
      "metadata": {
        "id": "8nk2WTZGLHqk",
        "colab_type": "code",
        "outputId": "2bd6ab39-9fcf-47c5-c81c-aed4990f2ddd",
        "colab": {
          "base_uri": "https://localhost:8080/",
          "height": 279
        }
      },
      "source": [
        "# plot the precision-recall curves\n",
        "no_skill = len(y_test[y_test==1]) / len(y_test)\n",
        "plt.plot([0, 1], [no_skill, no_skill], linestyle='--'\n",
        ", label='Without Skill')\n",
        "plt.plot(CART_recall, CART_precision, marker='.', label='DecisionTree')\n",
        "# axis labels\n",
        "plt.xlabel('Recall')\n",
        "plt.ylabel('Precision')\n",
        "# show the legend\n",
        "pyplot.legend()\n",
        "# show the plot\n",
        "pyplot.show()"
      ],
      "execution_count": 163,
      "outputs": [
        {
          "output_type": "display_data",
          "data": {
            "image/png": "[encoded data removed]",
            "text/plain": [
              "<Figure size 432x288 with 1 Axes>"
            ]
          },
          "metadata": {
            "tags": []
          }
        }
      ]
    },
    {
      "cell_type": "markdown",
      "metadata": {
        "id": "V6DyCykUqeCI",
        "colab_type": "text"
      },
      "source": [
        "# Logistic Regression"
      ]
    },
    {
      "cell_type": "code",
      "metadata": {
        "id": "3ozHL_ZIqEq6",
        "colab_type": "code",
        "outputId": "65ac3526-bc62-42bb-d5d9-37c19d73cf06",
        "colab": {
          "base_uri": "https://localhost:8080/",
          "height": 244
        }
      },
      "source": [
        "LR=LogisticRegression()\n",
        "LR.fit(x_train,y_train)"
      ],
      "execution_count": 164,
      "outputs": [
        {
          "output_type": "stream",
          "text": [
            "/usr/local/lib/python3.6/dist-packages/sklearn/linear_model/_logistic.py:940: ConvergenceWarning: lbfgs failed to converge (status=1):\n",
            "STOP: TOTAL NO. of ITERATIONS REACHED LIMIT.\n",
            "\n",
            "Increase the number of iterations (max_iter) or scale the data as shown in:\n",
            "    https://scikit-learn.org/stable/modules/preprocessing.html\n",
            "Please also refer to the documentation for alternative solver options:\n",
            "    https://scikit-learn.org/stable/modules/linear_model.html#logistic-regression\n",
            "  extra_warning_msg=_LOGISTIC_SOLVER_CONVERGENCE_MSG)\n"
          ],
          "name": "stderr"
        },
        {
          "output_type": "execute_result",
          "data": {
            "text/plain": [
              "LogisticRegression(C=1.0, class_weight=None, dual=False, fit_intercept=True,\n",
              "                   intercept_scaling=1, l1_ratio=None, max_iter=100,\n",
              "                   multi_class='auto', n_jobs=None, penalty='l2',\n",
              "                   random_state=None, solver='lbfgs', tol=0.0001, verbose=0,\n",
              "                   warm_start=False)"
            ]
          },
          "metadata": {
            "tags": []
          },
          "execution_count": 164
        }
      ]
    },
    {
      "cell_type": "code",
      "metadata": {
        "id": "2HC1MaYoqJZ4",
        "colab_type": "code",
        "colab": {}
      },
      "source": [
        "pred=LR.predict(x_test)"
      ],
      "execution_count": 0,
      "outputs": []
    },
    {
      "cell_type": "code",
      "metadata": {
        "id": "R7X1gRI1qNPU",
        "colab_type": "code",
        "outputId": "810ab9b5-5a38-427a-f8a1-5dc2282c8100",
        "colab": {
          "base_uri": "https://localhost:8080/",
          "height": 227
        }
      },
      "source": [
        "print(accuracy_score(y_test, pred))\n",
        "print(confusion_matrix(y_test, pred))\n",
        "print(classification_report(y_test, pred))"
      ],
      "execution_count": 166,
      "outputs": [
        {
          "output_type": "stream",
          "text": [
            "0.7820556892402888\n",
            "[[4550    2]\n",
            " [1266    0]]\n",
            "              precision    recall  f1-score   support\n",
            "\n",
            "           0       0.78      1.00      0.88      4552\n",
            "           1       0.00      0.00      0.00      1266\n",
            "\n",
            "    accuracy                           0.78      5818\n",
            "   macro avg       0.39      0.50      0.44      5818\n",
            "weighted avg       0.61      0.78      0.69      5818\n",
            "\n"
          ],
          "name": "stdout"
        }
      ]
    },
    {
      "cell_type": "code",
      "metadata": {
        "id": "pgT5VflztmnW",
        "colab_type": "code",
        "outputId": "799e1359-dff4-4f29-beed-6a2ac8413ea1",
        "colab": {
          "base_uri": "https://localhost:8080/",
          "height": 34
        }
      },
      "source": [
        "from sklearn.metrics import precision_recall_curve\n",
        "from sklearn.metrics import precision_score, recall_score\n",
        "from sklearn.metrics import f1_score\n",
        "from sklearn.metrics import auc\n",
        "# predict probabilities\n",
        "LR_probs = LR.predict_proba(x_test)\n",
        "# keep probabilities for the positive outcome only\n",
        "LR_probs = LR_probs[:, 1]\n",
        "# predict class values\n",
        "#yhat = model.predict(testX)\n",
        "yhat = LR.predict(x_test)\n",
        "LR_precision, LR_recall, _ = precision_recall_curve(y_test, LR_probs)\n",
        "LR_f1, LR_auc = f1_score(y_test, yhat), auc(LR_recall, LR_precision\n",
        ")\n",
        "# summarize scores\n",
        "print('Logistic: f1=%.3f auc=%.3f' % (LR_f1, LR_auc))"
      ],
      "execution_count": 167,
      "outputs": [
        {
          "output_type": "stream",
          "text": [
            "Logistic: f1=0.000 auc=0.323\n"
          ],
          "name": "stdout"
        }
      ]
    },
    {
      "cell_type": "code",
      "metadata": {
        "id": "iIVN1hAaJkK5",
        "colab_type": "code",
        "outputId": "4d60abd9-2b7b-41b2-fe8e-64997f6242d1",
        "colab": {
          "base_uri": "https://localhost:8080/",
          "height": 279
        }
      },
      "source": [
        "# plot the precision-recall curves\n",
        "no_skill = len(y_test[y_test==1]) / len(y_test)\n",
        "plt.plot([0, 1], [no_skill, no_skill], linestyle='--'\n",
        ", label='Without Skilll')\n",
        "plt.plot(LR_recall, LR_precision, marker='.', label='Logistic')\n",
        "# axis labels\n",
        "plt.xlabel('Recall')\n",
        "plt.ylabel('Precision')\n",
        "# show the legend\n",
        "pyplot.legend()\n",
        "# show the plot\n",
        "pyplot.show()"
      ],
      "execution_count": 168,
      "outputs": [
        {
          "output_type": "display_data",
          "data": {
            "image/png": "[encoded data removed]",
            "text/plain": [
              "<Figure size 432x288 with 1 Axes>"
            ]
          },
          "metadata": {
            "tags": []
          }
        }
      ]
    },
    {
      "cell_type": "markdown",
      "metadata": {
        "id": "TxxsCdR4PQGr",
        "colab_type": "text"
      },
      "source": [
        "# KNeighborsClassifier"
      ]
    },
    {
      "cell_type": "code",
      "metadata": {
        "id": "FDTC2vSgPdxE",
        "colab_type": "code",
        "outputId": "2c5d1d14-84e1-4e2c-9343-aa33e72c6e99",
        "colab": {
          "base_uri": "https://localhost:8080/",
          "height": 69
        }
      },
      "source": [
        "KNN=KNeighborsClassifier()\n",
        "KNN.fit(x_train,y_train)"
      ],
      "execution_count": 169,
      "outputs": [
        {
          "output_type": "execute_result",
          "data": {
            "text/plain": [
              "KNeighborsClassifier(algorithm='auto', leaf_size=30, metric='minkowski',\n",
              "                     metric_params=None, n_jobs=None, n_neighbors=5, p=2,\n",
              "                     weights='uniform')"
            ]
          },
          "metadata": {
            "tags": []
          },
          "execution_count": 169
        }
      ]
    },
    {
      "cell_type": "code",
      "metadata": {
        "id": "S5slkJ_dPzyj",
        "colab_type": "code",
        "colab": {}
      },
      "source": [
        "pred=KNN.predict(x_test)"
      ],
      "execution_count": 0,
      "outputs": []
    },
    {
      "cell_type": "code",
      "metadata": {
        "id": "jpP8XWwhP-YI",
        "colab_type": "code",
        "outputId": "dbbf0b52-5476-4b94-bbd4-478b919591ff",
        "colab": {
          "base_uri": "https://localhost:8080/",
          "height": 227
        }
      },
      "source": [
        "print(accuracy_score(y_test, pred))\n",
        "print(confusion_matrix(y_test, pred))\n",
        "print(classification_report(y_test, pred))"
      ],
      "execution_count": 171,
      "outputs": [
        {
          "output_type": "stream",
          "text": [
            "0.750429700928154\n",
            "[[4140  412]\n",
            " [1040  226]]\n",
            "              precision    recall  f1-score   support\n",
            "\n",
            "           0       0.80      0.91      0.85      4552\n",
            "           1       0.35      0.18      0.24      1266\n",
            "\n",
            "    accuracy                           0.75      5818\n",
            "   macro avg       0.58      0.54      0.54      5818\n",
            "weighted avg       0.70      0.75      0.72      5818\n",
            "\n"
          ],
          "name": "stdout"
        }
      ]
    },
    {
      "cell_type": "code",
      "metadata": {
        "id": "Zz7P2lo_QJms",
        "colab_type": "code",
        "outputId": "f77ca2f5-b07c-407f-fdc8-0ff6a02a8caf",
        "colab": {
          "base_uri": "https://localhost:8080/",
          "height": 34
        }
      },
      "source": [
        "from sklearn.metrics import precision_recall_curve\n",
        "from sklearn.metrics import precision_score, recall_score\n",
        "from sklearn.metrics import f1_score\n",
        "from sklearn.metrics import auc\n",
        "# predict probabilities\n",
        "KNN_probs = KNN.predict_proba(x_test)\n",
        "# keep probabilities for the positive outcome only\n",
        "KNN_probs = KNN_probs[:, 1]\n",
        "# predict class values\n",
        "#yhat = model.predict(testX)\n",
        "yhat = KNN.predict(x_test)\n",
        "KNN_precision, KNN_recall, _ = precision_recall_curve(y_test, KNN_probs)\n",
        "KNN_f1, KNN_auc = f1_score(y_test, yhat), auc(KNN_recall, KNN_precision\n",
        ")\n",
        "# summarize scores\n",
        "print('KNeighbors: f1=%.3f auc=%.3f' % (LR_f1, LR_auc))"
      ],
      "execution_count": 172,
      "outputs": [
        {
          "output_type": "stream",
          "text": [
            "KNeighbors: f1=0.000 auc=0.323\n"
          ],
          "name": "stdout"
        }
      ]
    },
    {
      "cell_type": "code",
      "metadata": {
        "id": "_-A3qneZQnww",
        "colab_type": "code",
        "outputId": "8d9ebf9c-5d85-4ee8-e6a7-e7878bf5b5eb",
        "colab": {
          "base_uri": "https://localhost:8080/",
          "height": 279
        }
      },
      "source": [
        "# plot the precision-recall curves\n",
        "no_skill = len(y_test[y_test==1]) / len(y_test)\n",
        "plt.plot([0, 1], [no_skill, no_skill], linestyle='--'\n",
        ", label='Without Skilll')\n",
        "plt.plot(KNN_recall, KNN_precision, marker='.', label='KNeighbors')\n",
        "# axis labels\n",
        "plt.xlabel('Recall')\n",
        "plt.ylabel('Precision')\n",
        "# show the legend\n",
        "pyplot.legend()\n",
        "# show the plot\n",
        "pyplot.show()"
      ],
      "execution_count": 173,
      "outputs": [
        {
          "output_type": "display_data",
          "data": {
            "image/png": "[encoded data removed]",
            "text/plain": [
              "<Figure size 432x288 with 1 Axes>"
            ]
          },
          "metadata": {
            "tags": []
          }
        }
      ]
    },
    {
      "cell_type": "markdown",
      "metadata": {
        "id": "zAvH6i8ZROiL",
        "colab_type": "text"
      },
      "source": [
        "# GaussianNB"
      ]
    },
    {
      "cell_type": "code",
      "metadata": {
        "id": "cncV9WZsRT_m",
        "colab_type": "code",
        "outputId": "f67ac65f-e24f-4aa1-c13a-88a86a708cba",
        "colab": {
          "base_uri": "https://localhost:8080/",
          "height": 34
        }
      },
      "source": [
        "NB=GaussianNB()\n",
        "NB.fit(x_train,y_train)"
      ],
      "execution_count": 174,
      "outputs": [
        {
          "output_type": "execute_result",
          "data": {
            "text/plain": [
              "GaussianNB(priors=None, var_smoothing=1e-09)"
            ]
          },
          "metadata": {
            "tags": []
          },
          "execution_count": 174
        }
      ]
    },
    {
      "cell_type": "code",
      "metadata": {
        "id": "3NUKqdF1RydS",
        "colab_type": "code",
        "colab": {}
      },
      "source": [
        "pred=NB.predict(x_test)"
      ],
      "execution_count": 0,
      "outputs": []
    },
    {
      "cell_type": "code",
      "metadata": {
        "id": "LW_G3XTAR6M0",
        "colab_type": "code",
        "outputId": "d33d07b9-df0a-4865-9ee9-0b6be2749969",
        "colab": {
          "base_uri": "https://localhost:8080/",
          "height": 227
        }
      },
      "source": [
        "print(accuracy_score(y_test, pred))\n",
        "print(confusion_matrix(y_test, pred))\n",
        "print(classification_report(y_test, pred))"
      ],
      "execution_count": 176,
      "outputs": [
        {
          "output_type": "stream",
          "text": [
            "0.44517016156754896\n",
            "[[1573 2979]\n",
            " [ 249 1017]]\n",
            "              precision    recall  f1-score   support\n",
            "\n",
            "           0       0.86      0.35      0.49      4552\n",
            "           1       0.25      0.80      0.39      1266\n",
            "\n",
            "    accuracy                           0.45      5818\n",
            "   macro avg       0.56      0.57      0.44      5818\n",
            "weighted avg       0.73      0.45      0.47      5818\n",
            "\n"
          ],
          "name": "stdout"
        }
      ]
    },
    {
      "cell_type": "code",
      "metadata": {
        "id": "-Xk1D7vqSCeF",
        "colab_type": "code",
        "outputId": "cdba752e-e2d2-4b0f-8ca0-59f3e5f01636",
        "colab": {
          "base_uri": "https://localhost:8080/",
          "height": 34
        }
      },
      "source": [
        "from sklearn.metrics import precision_recall_curve\n",
        "from sklearn.metrics import precision_score, recall_score\n",
        "from sklearn.metrics import f1_score\n",
        "from sklearn.metrics import auc\n",
        "# predict probabilities\n",
        "NB_probs = NB.predict_proba(x_test)\n",
        "# keep probabilities for the positive outcome only\n",
        "NB_probs = NB_probs[:, 1]\n",
        "# predict class values\n",
        "#yhat = model.predict(testX)\n",
        "yhat = NB.predict(x_test)\n",
        "NB_precision, NB_recall, _ = precision_recall_curve(y_test, NB_probs)\n",
        "NB_f1, NB_auc = f1_score(y_test, yhat), auc(NB_recall, NB_precision\n",
        ")\n",
        "# summarize scores\n",
        "print('GaussianNB: f1=%.3f auc=%.3f' % (NB_f1, NB_auc))"
      ],
      "execution_count": 177,
      "outputs": [
        {
          "output_type": "stream",
          "text": [
            "GaussianNB: f1=0.387 auc=0.402\n"
          ],
          "name": "stdout"
        }
      ]
    },
    {
      "cell_type": "code",
      "metadata": {
        "id": "IOyZ6O1jSyqm",
        "colab_type": "code",
        "outputId": "2cb719cb-2ce7-4d73-fb26-d0b9ae5e96a6",
        "colab": {
          "base_uri": "https://localhost:8080/",
          "height": 279
        }
      },
      "source": [
        "# plot the precision-recall curves\n",
        "no_skill = len(y_test[y_test==1]) / len(y_test)\n",
        "plt.plot([0, 1], [no_skill, no_skill], linestyle='--'\n",
        ", label='Without Skill')\n",
        "plt.plot(NB_recall, NB_precision, marker='.', label='GaussianNB')\n",
        "# axis labels\n",
        "plt.xlabel('Recall')\n",
        "plt.ylabel('Precision')\n",
        "# show the legend\n",
        "pyplot.legend()\n",
        "# show the plot\n",
        "pyplot.show()"
      ],
      "execution_count": 178,
      "outputs": [
        {
          "output_type": "display_data",
          "data": {
            "image/png": "[encoded data removed]",
            "text/plain": [
              "<Figure size 432x288 with 1 Axes>"
            ]
          },
          "metadata": {
            "tags": []
          }
        }
      ]
    },
    {
      "cell_type": "markdown",
      "metadata": {
        "id": "1bdAotFZTgYk",
        "colab_type": "text"
      },
      "source": [
        "# Final model is Random Forest Classifier"
      ]
    },
    {
      "cell_type": "code",
      "metadata": {
        "id": "Clt6O0e6TruC",
        "colab_type": "code",
        "outputId": "006b8343-d974-416e-d227-f01c671fb505",
        "colab": {
          "base_uri": "https://localhost:8080/",
          "height": 157
        }
      },
      "source": [
        "RFT=RandomForestClassifier(n_estimators=80,criterion='gini',random_state=seed)\n",
        "RFT.fit(x_train,y_train)"
      ],
      "execution_count": 179,
      "outputs": [
        {
          "output_type": "execute_result",
          "data": {
            "text/plain": [
              "RandomForestClassifier(bootstrap=True, ccp_alpha=0.0, class_weight=None,\n",
              "                       criterion='gini', max_depth=None, max_features='auto',\n",
              "                       max_leaf_nodes=None, max_samples=None,\n",
              "                       min_impurity_decrease=0.0, min_impurity_split=None,\n",
              "                       min_samples_leaf=1, min_samples_split=2,\n",
              "                       min_weight_fraction_leaf=0.0, n_estimators=80,\n",
              "                       n_jobs=None, oob_score=False, random_state=7, verbose=0,\n",
              "                       warm_start=False)"
            ]
          },
          "metadata": {
            "tags": []
          },
          "execution_count": 179
        }
      ]
    },
    {
      "cell_type": "code",
      "metadata": {
        "id": "fn-v2NnbUD4C",
        "colab_type": "code",
        "colab": {}
      },
      "source": [
        "pred=RFT.predict(x_test)"
      ],
      "execution_count": 0,
      "outputs": []
    },
    {
      "cell_type": "code",
      "metadata": {
        "id": "AwEHWHfcURQ3",
        "colab_type": "code",
        "outputId": "579e16d0-71aa-4eaf-ea6a-c417652f78fc",
        "colab": {
          "base_uri": "https://localhost:8080/",
          "height": 227
        }
      },
      "source": [
        "print(accuracy_score(y_test, pred))\n",
        "print(confusion_matrix(y_test, pred))\n",
        "print(classification_report(y_test, pred))"
      ],
      "execution_count": 181,
      "outputs": [
        {
          "output_type": "stream",
          "text": [
            "0.8210725335166724\n",
            "[[4294  258]\n",
            " [ 783  483]]\n",
            "              precision    recall  f1-score   support\n",
            "\n",
            "           0       0.85      0.94      0.89      4552\n",
            "           1       0.65      0.38      0.48      1266\n",
            "\n",
            "    accuracy                           0.82      5818\n",
            "   macro avg       0.75      0.66      0.69      5818\n",
            "weighted avg       0.80      0.82      0.80      5818\n",
            "\n"
          ],
          "name": "stdout"
        }
      ]
    },
    {
      "cell_type": "markdown",
      "metadata": {
        "id": "6PlRM0fv1fcZ",
        "colab_type": "text"
      },
      "source": [
        "# We need to focus more on default payment =1\n",
        "# Fit a model\n",
        "# Predict probabilities"
      ]
    },
    {
      "cell_type": "code",
      "metadata": {
        "id": "zmhT9hvF1td-",
        "colab_type": "code",
        "colab": {}
      },
      "source": [
        "RFT_probs = RFT.predict_proba(x_test)"
      ],
      "execution_count": 0,
      "outputs": []
    },
    {
      "cell_type": "markdown",
      "metadata": {
        "id": "_Z3uk3hx10PL",
        "colab_type": "text"
      },
      "source": [
        "# Keep probabilities for the positive outcome only"
      ]
    },
    {
      "cell_type": "code",
      "metadata": {
        "id": "vOYkyqNo13wd",
        "colab_type": "code",
        "colab": {}
      },
      "source": [
        "RFT_probs = RFT_probs[:, 1]\n",
        "yhat = RFT.predict(x_test)\n",
        "RFT_precision, RFT_recall, threshold = precision_recall_curve(y_test, RFT_probs)\n",
        "fscore = (2 * RFT_precision * RFT_recall) / (RFT_precision + RFT_recall)"
      ],
      "execution_count": 0,
      "outputs": []
    },
    {
      "cell_type": "markdown",
      "metadata": {
        "id": "Mea73Nsf2G2I",
        "colab_type": "text"
      },
      "source": [
        "# Plot the precision-recall curves for the model\n",
        "# Locate the index of the largest f score"
      ]
    },
    {
      "cell_type": "code",
      "metadata": {
        "id": "iYpysL6eql3U",
        "colab_type": "code",
        "outputId": "75edeb93-9fbd-4552-bba8-2d804e7c7b1a",
        "colab": {
          "base_uri": "https://localhost:8080/",
          "height": 296
        }
      },
      "source": [
        "ix = argmax(fscore)\n",
        "print('Best Threshold=%f, F-Score=%.3f' % (thresholds[ix], fscore[ix]))\n",
        "no_skill = len(y_test[y_test==1]) / len(y_test)\n",
        "plt.plot([0, 1], [no_skill, no_skill], linestyle='--', label='Without Skill')\n",
        "plt.plot(RFT_recall, RFT_precision, marker='.', label='RandomForest')\n",
        "plt.scatter(RFT_recall[ix], RFT_precision[ix], marker='o', color='black', label='Best')\n",
        "plt.xlabel('Recall')\n",
        "plt.ylabel('Precision')\n",
        "plt.legend()\n",
        "plt.show()"
      ],
      "execution_count": 184,
      "outputs": [
        {
          "output_type": "stream",
          "text": [
            "Best Threshold=0.350000, F-Score=0.539\n"
          ],
          "name": "stdout"
        },
        {
          "output_type": "display_data",
          "data": {
            "image/png": "[encoded data removed]",
            "text/plain": [
              "<Figure size 432x288 with 1 Axes>"
            ]
          },
          "metadata": {
            "tags": []
          }
        }
      ]
    }
  ]
}